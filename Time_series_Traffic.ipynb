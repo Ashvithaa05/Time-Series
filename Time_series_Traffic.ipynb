{
  "cells": [
    {
      "cell_type": "markdown",
      "metadata": {
        "id": "view-in-github",
        "colab_type": "text"
      },
      "source": [
        "<a href=\"https://colab.research.google.com/github/Ashvithaa05/Time-Series/blob/main/Time_series_Traffic.ipynb\" target=\"_parent\"><img src=\"https://colab.research.google.com/assets/colab-badge.svg\" alt=\"Open In Colab\"/></a>"
      ]
    },
    {
      "cell_type": "code",
      "execution_count": null,
      "metadata": {
        "id": "eiGYmlgo7PgK"
      },
      "outputs": [],
      "source": [
        "# Importing Libraries\n",
        "import numpy as np\n",
        "import pandas as pd\n",
        "import matplotlib.pyplot as plt\n",
        "import seaborn as sns\n",
        "import datetime\n",
        "import tensorflow\n",
        "from statsmodels.tsa.stattools import adfuller\n",
        "from sklearn.preprocessing import MinMaxScaler\n",
        "from tensorflow import keras\n",
        "from keras import callbacks\n",
        "from tensorflow.keras import Sequential\n",
        "from tensorflow.keras.layers import Conv2D, Flatten, Dense, LSTM, Dropout, GRU, Bidirectional\n",
        "from tensorflow.keras.optimizers import SGD\n",
        "import math\n",
        "from sklearn.metrics import mean_squared_error\n",
        "\n",
        "import warnings\n",
        "warnings.filterwarnings(\"ignore\")\n",
        "\n"
      ]
    },
    {
      "cell_type": "code",
      "execution_count": null,
      "metadata": {
        "colab": {
          "base_uri": "https://localhost:8080/",
          "height": 206
        },
        "id": "lQtShKkq5wkJ",
        "outputId": "72008cb2-337c-4e55-8894-d6129f7f06e1"
      },
      "outputs": [
        {
          "data": {
            "application/vnd.google.colaboratory.intrinsic+json": {
              "summary": "{\n  \"name\": \"data\",\n  \"rows\": 48120,\n  \"fields\": [\n    {\n      \"column\": \"DateTime\",\n      \"properties\": {\n        \"dtype\": \"object\",\n        \"num_unique_values\": 14592,\n        \"samples\": [\n          \"2016-05-13 20:00:00\",\n          \"2016-11-03 20:00:00\",\n          \"2015-12-08 19:00:00\"\n        ],\n        \"semantic_type\": \"\",\n        \"description\": \"\"\n      }\n    },\n    {\n      \"column\": \"Junction\",\n      \"properties\": {\n        \"dtype\": \"number\",\n        \"std\": 0,\n        \"min\": 1,\n        \"max\": 4,\n        \"num_unique_values\": 4,\n        \"samples\": [\n          2,\n          4,\n          1\n        ],\n        \"semantic_type\": \"\",\n        \"description\": \"\"\n      }\n    },\n    {\n      \"column\": \"Vehicles\",\n      \"properties\": {\n        \"dtype\": \"number\",\n        \"std\": 20,\n        \"min\": 1,\n        \"max\": 180,\n        \"num_unique_values\": 141,\n        \"samples\": [\n          73,\n          99,\n          38\n        ],\n        \"semantic_type\": \"\",\n        \"description\": \"\"\n      }\n    },\n    {\n      \"column\": \"ID\",\n      \"properties\": {\n        \"dtype\": \"number\",\n        \"std\": 5944853,\n        \"min\": 20151101001,\n        \"max\": 20170630234,\n        \"num_unique_values\": 48120,\n        \"samples\": [\n          20161223082,\n          20160828203,\n          20170424063\n        ],\n        \"semantic_type\": \"\",\n        \"description\": \"\"\n      }\n    }\n  ]\n}",
              "type": "dataframe",
              "variable_name": "data"
            },
            "text/html": [
              "\n",
              "  <div id=\"df-f04c174f-1802-438b-b018-2bf44e91c21c\" class=\"colab-df-container\">\n",
              "    <div>\n",
              "<style scoped>\n",
              "    .dataframe tbody tr th:only-of-type {\n",
              "        vertical-align: middle;\n",
              "    }\n",
              "\n",
              "    .dataframe tbody tr th {\n",
              "        vertical-align: top;\n",
              "    }\n",
              "\n",
              "    .dataframe thead th {\n",
              "        text-align: right;\n",
              "    }\n",
              "</style>\n",
              "<table border=\"1\" class=\"dataframe\">\n",
              "  <thead>\n",
              "    <tr style=\"text-align: right;\">\n",
              "      <th></th>\n",
              "      <th>DateTime</th>\n",
              "      <th>Junction</th>\n",
              "      <th>Vehicles</th>\n",
              "      <th>ID</th>\n",
              "    </tr>\n",
              "  </thead>\n",
              "  <tbody>\n",
              "    <tr>\n",
              "      <th>0</th>\n",
              "      <td>2015-11-01 00:00:00</td>\n",
              "      <td>1</td>\n",
              "      <td>15</td>\n",
              "      <td>20151101001</td>\n",
              "    </tr>\n",
              "    <tr>\n",
              "      <th>1</th>\n",
              "      <td>2015-11-01 01:00:00</td>\n",
              "      <td>1</td>\n",
              "      <td>13</td>\n",
              "      <td>20151101011</td>\n",
              "    </tr>\n",
              "    <tr>\n",
              "      <th>2</th>\n",
              "      <td>2015-11-01 02:00:00</td>\n",
              "      <td>1</td>\n",
              "      <td>10</td>\n",
              "      <td>20151101021</td>\n",
              "    </tr>\n",
              "    <tr>\n",
              "      <th>3</th>\n",
              "      <td>2015-11-01 03:00:00</td>\n",
              "      <td>1</td>\n",
              "      <td>7</td>\n",
              "      <td>20151101031</td>\n",
              "    </tr>\n",
              "    <tr>\n",
              "      <th>4</th>\n",
              "      <td>2015-11-01 04:00:00</td>\n",
              "      <td>1</td>\n",
              "      <td>9</td>\n",
              "      <td>20151101041</td>\n",
              "    </tr>\n",
              "  </tbody>\n",
              "</table>\n",
              "</div>\n",
              "    <div class=\"colab-df-buttons\">\n",
              "\n",
              "  <div class=\"colab-df-container\">\n",
              "    <button class=\"colab-df-convert\" onclick=\"convertToInteractive('df-f04c174f-1802-438b-b018-2bf44e91c21c')\"\n",
              "            title=\"Convert this dataframe to an interactive table.\"\n",
              "            style=\"display:none;\">\n",
              "\n",
              "  <svg xmlns=\"http://www.w3.org/2000/svg\" height=\"24px\" viewBox=\"0 -960 960 960\">\n",
              "    <path d=\"M120-120v-720h720v720H120Zm60-500h600v-160H180v160Zm220 220h160v-160H400v160Zm0 220h160v-160H400v160ZM180-400h160v-160H180v160Zm440 0h160v-160H620v160ZM180-180h160v-160H180v160Zm440 0h160v-160H620v160Z\"/>\n",
              "  </svg>\n",
              "    </button>\n",
              "\n",
              "  <style>\n",
              "    .colab-df-container {\n",
              "      display:flex;\n",
              "      gap: 12px;\n",
              "    }\n",
              "\n",
              "    .colab-df-convert {\n",
              "      background-color: #E8F0FE;\n",
              "      border: none;\n",
              "      border-radius: 50%;\n",
              "      cursor: pointer;\n",
              "      display: none;\n",
              "      fill: #1967D2;\n",
              "      height: 32px;\n",
              "      padding: 0 0 0 0;\n",
              "      width: 32px;\n",
              "    }\n",
              "\n",
              "    .colab-df-convert:hover {\n",
              "      background-color: #E2EBFA;\n",
              "      box-shadow: 0px 1px 2px rgba(60, 64, 67, 0.3), 0px 1px 3px 1px rgba(60, 64, 67, 0.15);\n",
              "      fill: #174EA6;\n",
              "    }\n",
              "\n",
              "    .colab-df-buttons div {\n",
              "      margin-bottom: 4px;\n",
              "    }\n",
              "\n",
              "    [theme=dark] .colab-df-convert {\n",
              "      background-color: #3B4455;\n",
              "      fill: #D2E3FC;\n",
              "    }\n",
              "\n",
              "    [theme=dark] .colab-df-convert:hover {\n",
              "      background-color: #434B5C;\n",
              "      box-shadow: 0px 1px 3px 1px rgba(0, 0, 0, 0.15);\n",
              "      filter: drop-shadow(0px 1px 2px rgba(0, 0, 0, 0.3));\n",
              "      fill: #FFFFFF;\n",
              "    }\n",
              "  </style>\n",
              "\n",
              "    <script>\n",
              "      const buttonEl =\n",
              "        document.querySelector('#df-f04c174f-1802-438b-b018-2bf44e91c21c button.colab-df-convert');\n",
              "      buttonEl.style.display =\n",
              "        google.colab.kernel.accessAllowed ? 'block' : 'none';\n",
              "\n",
              "      async function convertToInteractive(key) {\n",
              "        const element = document.querySelector('#df-f04c174f-1802-438b-b018-2bf44e91c21c');\n",
              "        const dataTable =\n",
              "          await google.colab.kernel.invokeFunction('convertToInteractive',\n",
              "                                                    [key], {});\n",
              "        if (!dataTable) return;\n",
              "\n",
              "        const docLinkHtml = 'Like what you see? Visit the ' +\n",
              "          '<a target=\"_blank\" href=https://colab.research.google.com/notebooks/data_table.ipynb>data table notebook</a>'\n",
              "          + ' to learn more about interactive tables.';\n",
              "        element.innerHTML = '';\n",
              "        dataTable['output_type'] = 'display_data';\n",
              "        await google.colab.output.renderOutput(dataTable, element);\n",
              "        const docLink = document.createElement('div');\n",
              "        docLink.innerHTML = docLinkHtml;\n",
              "        element.appendChild(docLink);\n",
              "      }\n",
              "    </script>\n",
              "  </div>\n",
              "\n",
              "\n",
              "<div id=\"df-24429fbc-a4dc-4ae4-8396-0d14bf11345b\">\n",
              "  <button class=\"colab-df-quickchart\" onclick=\"quickchart('df-24429fbc-a4dc-4ae4-8396-0d14bf11345b')\"\n",
              "            title=\"Suggest charts\"\n",
              "            style=\"display:none;\">\n",
              "\n",
              "<svg xmlns=\"http://www.w3.org/2000/svg\" height=\"24px\"viewBox=\"0 0 24 24\"\n",
              "     width=\"24px\">\n",
              "    <g>\n",
              "        <path d=\"M19 3H5c-1.1 0-2 .9-2 2v14c0 1.1.9 2 2 2h14c1.1 0 2-.9 2-2V5c0-1.1-.9-2-2-2zM9 17H7v-7h2v7zm4 0h-2V7h2v10zm4 0h-2v-4h2v4z\"/>\n",
              "    </g>\n",
              "</svg>\n",
              "  </button>\n",
              "\n",
              "<style>\n",
              "  .colab-df-quickchart {\n",
              "      --bg-color: #E8F0FE;\n",
              "      --fill-color: #1967D2;\n",
              "      --hover-bg-color: #E2EBFA;\n",
              "      --hover-fill-color: #174EA6;\n",
              "      --disabled-fill-color: #AAA;\n",
              "      --disabled-bg-color: #DDD;\n",
              "  }\n",
              "\n",
              "  [theme=dark] .colab-df-quickchart {\n",
              "      --bg-color: #3B4455;\n",
              "      --fill-color: #D2E3FC;\n",
              "      --hover-bg-color: #434B5C;\n",
              "      --hover-fill-color: #FFFFFF;\n",
              "      --disabled-bg-color: #3B4455;\n",
              "      --disabled-fill-color: #666;\n",
              "  }\n",
              "\n",
              "  .colab-df-quickchart {\n",
              "    background-color: var(--bg-color);\n",
              "    border: none;\n",
              "    border-radius: 50%;\n",
              "    cursor: pointer;\n",
              "    display: none;\n",
              "    fill: var(--fill-color);\n",
              "    height: 32px;\n",
              "    padding: 0;\n",
              "    width: 32px;\n",
              "  }\n",
              "\n",
              "  .colab-df-quickchart:hover {\n",
              "    background-color: var(--hover-bg-color);\n",
              "    box-shadow: 0 1px 2px rgba(60, 64, 67, 0.3), 0 1px 3px 1px rgba(60, 64, 67, 0.15);\n",
              "    fill: var(--button-hover-fill-color);\n",
              "  }\n",
              "\n",
              "  .colab-df-quickchart-complete:disabled,\n",
              "  .colab-df-quickchart-complete:disabled:hover {\n",
              "    background-color: var(--disabled-bg-color);\n",
              "    fill: var(--disabled-fill-color);\n",
              "    box-shadow: none;\n",
              "  }\n",
              "\n",
              "  .colab-df-spinner {\n",
              "    border: 2px solid var(--fill-color);\n",
              "    border-color: transparent;\n",
              "    border-bottom-color: var(--fill-color);\n",
              "    animation:\n",
              "      spin 1s steps(1) infinite;\n",
              "  }\n",
              "\n",
              "  @keyframes spin {\n",
              "    0% {\n",
              "      border-color: transparent;\n",
              "      border-bottom-color: var(--fill-color);\n",
              "      border-left-color: var(--fill-color);\n",
              "    }\n",
              "    20% {\n",
              "      border-color: transparent;\n",
              "      border-left-color: var(--fill-color);\n",
              "      border-top-color: var(--fill-color);\n",
              "    }\n",
              "    30% {\n",
              "      border-color: transparent;\n",
              "      border-left-color: var(--fill-color);\n",
              "      border-top-color: var(--fill-color);\n",
              "      border-right-color: var(--fill-color);\n",
              "    }\n",
              "    40% {\n",
              "      border-color: transparent;\n",
              "      border-right-color: var(--fill-color);\n",
              "      border-top-color: var(--fill-color);\n",
              "    }\n",
              "    60% {\n",
              "      border-color: transparent;\n",
              "      border-right-color: var(--fill-color);\n",
              "    }\n",
              "    80% {\n",
              "      border-color: transparent;\n",
              "      border-right-color: var(--fill-color);\n",
              "      border-bottom-color: var(--fill-color);\n",
              "    }\n",
              "    90% {\n",
              "      border-color: transparent;\n",
              "      border-bottom-color: var(--fill-color);\n",
              "    }\n",
              "  }\n",
              "</style>\n",
              "\n",
              "  <script>\n",
              "    async function quickchart(key) {\n",
              "      const quickchartButtonEl =\n",
              "        document.querySelector('#' + key + ' button');\n",
              "      quickchartButtonEl.disabled = true;  // To prevent multiple clicks.\n",
              "      quickchartButtonEl.classList.add('colab-df-spinner');\n",
              "      try {\n",
              "        const charts = await google.colab.kernel.invokeFunction(\n",
              "            'suggestCharts', [key], {});\n",
              "      } catch (error) {\n",
              "        console.error('Error during call to suggestCharts:', error);\n",
              "      }\n",
              "      quickchartButtonEl.classList.remove('colab-df-spinner');\n",
              "      quickchartButtonEl.classList.add('colab-df-quickchart-complete');\n",
              "    }\n",
              "    (() => {\n",
              "      let quickchartButtonEl =\n",
              "        document.querySelector('#df-24429fbc-a4dc-4ae4-8396-0d14bf11345b button');\n",
              "      quickchartButtonEl.style.display =\n",
              "        google.colab.kernel.accessAllowed ? 'block' : 'none';\n",
              "    })();\n",
              "  </script>\n",
              "</div>\n",
              "\n",
              "    </div>\n",
              "  </div>\n"
            ],
            "text/plain": [
              "              DateTime  Junction  Vehicles           ID\n",
              "0  2015-11-01 00:00:00         1        15  20151101001\n",
              "1  2015-11-01 01:00:00         1        13  20151101011\n",
              "2  2015-11-01 02:00:00         1        10  20151101021\n",
              "3  2015-11-01 03:00:00         1         7  20151101031\n",
              "4  2015-11-01 04:00:00         1         9  20151101041"
            ]
          },
          "execution_count": 8,
          "metadata": {},
          "output_type": "execute_result"
        }
      ],
      "source": [
        "data = pd.read_csv(\"/content/traffic.csv\")\n",
        "data.head()"
      ]
    },
    {
      "cell_type": "code",
      "execution_count": null,
      "metadata": {
        "id": "7rqa1w_56sZl"
      },
      "outputs": [],
      "source": [
        "df=data.copy()"
      ]
    },
    {
      "cell_type": "code",
      "execution_count": null,
      "metadata": {
        "id": "gozdXVY964Ra"
      },
      "outputs": [],
      "source": [
        "df['DateTime'] = pd.to_datetime(df['DateTime'])\n",
        "df[\"Year\"]= df['DateTime'].dt.year\n",
        "df[\"Month\"]= df['DateTime'].dt.month\n",
        "df[\"Date_no\"]= df['DateTime'].dt.day\n",
        "df[\"Hour\"]= df['DateTime'].dt.hour\n",
        "df[\"Day\"]= df.DateTime.dt.strftime(\"%A\")\n",
        "\n"
      ]
    },
    {
      "cell_type": "code",
      "execution_count": null,
      "metadata": {
        "colab": {
          "base_uri": "https://localhost:8080/",
          "height": 206
        },
        "id": "I0F-5xCG_hwV",
        "outputId": "20535f7d-61ff-4744-dd81-8e2a7dc5ac04"
      },
      "outputs": [
        {
          "data": {
            "application/vnd.google.colaboratory.intrinsic+json": {
              "summary": "{\n  \"name\": \"df\",\n  \"rows\": 48120,\n  \"fields\": [\n    {\n      \"column\": \"DateTime\",\n      \"properties\": {\n        \"dtype\": \"date\",\n        \"min\": \"2015-11-01 00:00:00\",\n        \"max\": \"2017-06-30 23:00:00\",\n        \"num_unique_values\": 14592,\n        \"samples\": [\n          \"2016-05-13 20:00:00\",\n          \"2016-11-03 20:00:00\",\n          \"2015-12-08 19:00:00\"\n        ],\n        \"semantic_type\": \"\",\n        \"description\": \"\"\n      }\n    },\n    {\n      \"column\": \"Junction\",\n      \"properties\": {\n        \"dtype\": \"number\",\n        \"std\": 0,\n        \"min\": 1,\n        \"max\": 4,\n        \"num_unique_values\": 4,\n        \"samples\": [\n          2,\n          4,\n          1\n        ],\n        \"semantic_type\": \"\",\n        \"description\": \"\"\n      }\n    },\n    {\n      \"column\": \"Vehicles\",\n      \"properties\": {\n        \"dtype\": \"number\",\n        \"std\": 20,\n        \"min\": 1,\n        \"max\": 180,\n        \"num_unique_values\": 141,\n        \"samples\": [\n          73,\n          99,\n          38\n        ],\n        \"semantic_type\": \"\",\n        \"description\": \"\"\n      }\n    },\n    {\n      \"column\": \"ID\",\n      \"properties\": {\n        \"dtype\": \"number\",\n        \"std\": 5944853,\n        \"min\": 20151101001,\n        \"max\": 20170630234,\n        \"num_unique_values\": 48120,\n        \"samples\": [\n          20161223082,\n          20160828203,\n          20170424063\n        ],\n        \"semantic_type\": \"\",\n        \"description\": \"\"\n      }\n    },\n    {\n      \"column\": \"Year\",\n      \"properties\": {\n        \"dtype\": \"number\",\n        \"std\": 0,\n        \"min\": 2015,\n        \"max\": 2017,\n        \"num_unique_values\": 3,\n        \"samples\": [\n          2015,\n          2016,\n          2017\n        ],\n        \"semantic_type\": \"\",\n        \"description\": \"\"\n      }\n    },\n    {\n      \"column\": \"Month\",\n      \"properties\": {\n        \"dtype\": \"number\",\n        \"std\": 3,\n        \"min\": 1,\n        \"max\": 12,\n        \"num_unique_values\": 12,\n        \"samples\": [\n          9,\n          8,\n          11\n        ],\n        \"semantic_type\": \"\",\n        \"description\": \"\"\n      }\n    },\n    {\n      \"column\": \"Date_no\",\n      \"properties\": {\n        \"dtype\": \"number\",\n        \"std\": 8,\n        \"min\": 1,\n        \"max\": 31,\n        \"num_unique_values\": 31,\n        \"samples\": [\n          28,\n          16,\n          24\n        ],\n        \"semantic_type\": \"\",\n        \"description\": \"\"\n      }\n    },\n    {\n      \"column\": \"Hour\",\n      \"properties\": {\n        \"dtype\": \"number\",\n        \"std\": 6,\n        \"min\": 0,\n        \"max\": 23,\n        \"num_unique_values\": 24,\n        \"samples\": [\n          8,\n          16,\n          0\n        ],\n        \"semantic_type\": \"\",\n        \"description\": \"\"\n      }\n    },\n    {\n      \"column\": \"Day\",\n      \"properties\": {\n        \"dtype\": \"category\",\n        \"num_unique_values\": 7,\n        \"samples\": [\n          \"Sunday\",\n          \"Monday\",\n          \"Friday\"\n        ],\n        \"semantic_type\": \"\",\n        \"description\": \"\"\n      }\n    }\n  ]\n}",
              "type": "dataframe",
              "variable_name": "df"
            },
            "text/html": [
              "\n",
              "  <div id=\"df-eb34ec2c-1250-4bf8-82be-ce5b063a5432\" class=\"colab-df-container\">\n",
              "    <div>\n",
              "<style scoped>\n",
              "    .dataframe tbody tr th:only-of-type {\n",
              "        vertical-align: middle;\n",
              "    }\n",
              "\n",
              "    .dataframe tbody tr th {\n",
              "        vertical-align: top;\n",
              "    }\n",
              "\n",
              "    .dataframe thead th {\n",
              "        text-align: right;\n",
              "    }\n",
              "</style>\n",
              "<table border=\"1\" class=\"dataframe\">\n",
              "  <thead>\n",
              "    <tr style=\"text-align: right;\">\n",
              "      <th></th>\n",
              "      <th>DateTime</th>\n",
              "      <th>Junction</th>\n",
              "      <th>Vehicles</th>\n",
              "      <th>ID</th>\n",
              "      <th>Year</th>\n",
              "      <th>Month</th>\n",
              "      <th>Date_no</th>\n",
              "      <th>Hour</th>\n",
              "      <th>Day</th>\n",
              "    </tr>\n",
              "  </thead>\n",
              "  <tbody>\n",
              "    <tr>\n",
              "      <th>0</th>\n",
              "      <td>2015-11-01 00:00:00</td>\n",
              "      <td>1</td>\n",
              "      <td>15</td>\n",
              "      <td>20151101001</td>\n",
              "      <td>2015</td>\n",
              "      <td>11</td>\n",
              "      <td>1</td>\n",
              "      <td>0</td>\n",
              "      <td>Sunday</td>\n",
              "    </tr>\n",
              "    <tr>\n",
              "      <th>1</th>\n",
              "      <td>2015-11-01 01:00:00</td>\n",
              "      <td>1</td>\n",
              "      <td>13</td>\n",
              "      <td>20151101011</td>\n",
              "      <td>2015</td>\n",
              "      <td>11</td>\n",
              "      <td>1</td>\n",
              "      <td>1</td>\n",
              "      <td>Sunday</td>\n",
              "    </tr>\n",
              "    <tr>\n",
              "      <th>2</th>\n",
              "      <td>2015-11-01 02:00:00</td>\n",
              "      <td>1</td>\n",
              "      <td>10</td>\n",
              "      <td>20151101021</td>\n",
              "      <td>2015</td>\n",
              "      <td>11</td>\n",
              "      <td>1</td>\n",
              "      <td>2</td>\n",
              "      <td>Sunday</td>\n",
              "    </tr>\n",
              "    <tr>\n",
              "      <th>3</th>\n",
              "      <td>2015-11-01 03:00:00</td>\n",
              "      <td>1</td>\n",
              "      <td>7</td>\n",
              "      <td>20151101031</td>\n",
              "      <td>2015</td>\n",
              "      <td>11</td>\n",
              "      <td>1</td>\n",
              "      <td>3</td>\n",
              "      <td>Sunday</td>\n",
              "    </tr>\n",
              "    <tr>\n",
              "      <th>4</th>\n",
              "      <td>2015-11-01 04:00:00</td>\n",
              "      <td>1</td>\n",
              "      <td>9</td>\n",
              "      <td>20151101041</td>\n",
              "      <td>2015</td>\n",
              "      <td>11</td>\n",
              "      <td>1</td>\n",
              "      <td>4</td>\n",
              "      <td>Sunday</td>\n",
              "    </tr>\n",
              "  </tbody>\n",
              "</table>\n",
              "</div>\n",
              "    <div class=\"colab-df-buttons\">\n",
              "\n",
              "  <div class=\"colab-df-container\">\n",
              "    <button class=\"colab-df-convert\" onclick=\"convertToInteractive('df-eb34ec2c-1250-4bf8-82be-ce5b063a5432')\"\n",
              "            title=\"Convert this dataframe to an interactive table.\"\n",
              "            style=\"display:none;\">\n",
              "\n",
              "  <svg xmlns=\"http://www.w3.org/2000/svg\" height=\"24px\" viewBox=\"0 -960 960 960\">\n",
              "    <path d=\"M120-120v-720h720v720H120Zm60-500h600v-160H180v160Zm220 220h160v-160H400v160Zm0 220h160v-160H400v160ZM180-400h160v-160H180v160Zm440 0h160v-160H620v160ZM180-180h160v-160H180v160Zm440 0h160v-160H620v160Z\"/>\n",
              "  </svg>\n",
              "    </button>\n",
              "\n",
              "  <style>\n",
              "    .colab-df-container {\n",
              "      display:flex;\n",
              "      gap: 12px;\n",
              "    }\n",
              "\n",
              "    .colab-df-convert {\n",
              "      background-color: #E8F0FE;\n",
              "      border: none;\n",
              "      border-radius: 50%;\n",
              "      cursor: pointer;\n",
              "      display: none;\n",
              "      fill: #1967D2;\n",
              "      height: 32px;\n",
              "      padding: 0 0 0 0;\n",
              "      width: 32px;\n",
              "    }\n",
              "\n",
              "    .colab-df-convert:hover {\n",
              "      background-color: #E2EBFA;\n",
              "      box-shadow: 0px 1px 2px rgba(60, 64, 67, 0.3), 0px 1px 3px 1px rgba(60, 64, 67, 0.15);\n",
              "      fill: #174EA6;\n",
              "    }\n",
              "\n",
              "    .colab-df-buttons div {\n",
              "      margin-bottom: 4px;\n",
              "    }\n",
              "\n",
              "    [theme=dark] .colab-df-convert {\n",
              "      background-color: #3B4455;\n",
              "      fill: #D2E3FC;\n",
              "    }\n",
              "\n",
              "    [theme=dark] .colab-df-convert:hover {\n",
              "      background-color: #434B5C;\n",
              "      box-shadow: 0px 1px 3px 1px rgba(0, 0, 0, 0.15);\n",
              "      filter: drop-shadow(0px 1px 2px rgba(0, 0, 0, 0.3));\n",
              "      fill: #FFFFFF;\n",
              "    }\n",
              "  </style>\n",
              "\n",
              "    <script>\n",
              "      const buttonEl =\n",
              "        document.querySelector('#df-eb34ec2c-1250-4bf8-82be-ce5b063a5432 button.colab-df-convert');\n",
              "      buttonEl.style.display =\n",
              "        google.colab.kernel.accessAllowed ? 'block' : 'none';\n",
              "\n",
              "      async function convertToInteractive(key) {\n",
              "        const element = document.querySelector('#df-eb34ec2c-1250-4bf8-82be-ce5b063a5432');\n",
              "        const dataTable =\n",
              "          await google.colab.kernel.invokeFunction('convertToInteractive',\n",
              "                                                    [key], {});\n",
              "        if (!dataTable) return;\n",
              "\n",
              "        const docLinkHtml = 'Like what you see? Visit the ' +\n",
              "          '<a target=\"_blank\" href=https://colab.research.google.com/notebooks/data_table.ipynb>data table notebook</a>'\n",
              "          + ' to learn more about interactive tables.';\n",
              "        element.innerHTML = '';\n",
              "        dataTable['output_type'] = 'display_data';\n",
              "        await google.colab.output.renderOutput(dataTable, element);\n",
              "        const docLink = document.createElement('div');\n",
              "        docLink.innerHTML = docLinkHtml;\n",
              "        element.appendChild(docLink);\n",
              "      }\n",
              "    </script>\n",
              "  </div>\n",
              "\n",
              "\n",
              "<div id=\"df-cb492c65-fb7e-4c82-b4d5-dd0d1505d41f\">\n",
              "  <button class=\"colab-df-quickchart\" onclick=\"quickchart('df-cb492c65-fb7e-4c82-b4d5-dd0d1505d41f')\"\n",
              "            title=\"Suggest charts\"\n",
              "            style=\"display:none;\">\n",
              "\n",
              "<svg xmlns=\"http://www.w3.org/2000/svg\" height=\"24px\"viewBox=\"0 0 24 24\"\n",
              "     width=\"24px\">\n",
              "    <g>\n",
              "        <path d=\"M19 3H5c-1.1 0-2 .9-2 2v14c0 1.1.9 2 2 2h14c1.1 0 2-.9 2-2V5c0-1.1-.9-2-2-2zM9 17H7v-7h2v7zm4 0h-2V7h2v10zm4 0h-2v-4h2v4z\"/>\n",
              "    </g>\n",
              "</svg>\n",
              "  </button>\n",
              "\n",
              "<style>\n",
              "  .colab-df-quickchart {\n",
              "      --bg-color: #E8F0FE;\n",
              "      --fill-color: #1967D2;\n",
              "      --hover-bg-color: #E2EBFA;\n",
              "      --hover-fill-color: #174EA6;\n",
              "      --disabled-fill-color: #AAA;\n",
              "      --disabled-bg-color: #DDD;\n",
              "  }\n",
              "\n",
              "  [theme=dark] .colab-df-quickchart {\n",
              "      --bg-color: #3B4455;\n",
              "      --fill-color: #D2E3FC;\n",
              "      --hover-bg-color: #434B5C;\n",
              "      --hover-fill-color: #FFFFFF;\n",
              "      --disabled-bg-color: #3B4455;\n",
              "      --disabled-fill-color: #666;\n",
              "  }\n",
              "\n",
              "  .colab-df-quickchart {\n",
              "    background-color: var(--bg-color);\n",
              "    border: none;\n",
              "    border-radius: 50%;\n",
              "    cursor: pointer;\n",
              "    display: none;\n",
              "    fill: var(--fill-color);\n",
              "    height: 32px;\n",
              "    padding: 0;\n",
              "    width: 32px;\n",
              "  }\n",
              "\n",
              "  .colab-df-quickchart:hover {\n",
              "    background-color: var(--hover-bg-color);\n",
              "    box-shadow: 0 1px 2px rgba(60, 64, 67, 0.3), 0 1px 3px 1px rgba(60, 64, 67, 0.15);\n",
              "    fill: var(--button-hover-fill-color);\n",
              "  }\n",
              "\n",
              "  .colab-df-quickchart-complete:disabled,\n",
              "  .colab-df-quickchart-complete:disabled:hover {\n",
              "    background-color: var(--disabled-bg-color);\n",
              "    fill: var(--disabled-fill-color);\n",
              "    box-shadow: none;\n",
              "  }\n",
              "\n",
              "  .colab-df-spinner {\n",
              "    border: 2px solid var(--fill-color);\n",
              "    border-color: transparent;\n",
              "    border-bottom-color: var(--fill-color);\n",
              "    animation:\n",
              "      spin 1s steps(1) infinite;\n",
              "  }\n",
              "\n",
              "  @keyframes spin {\n",
              "    0% {\n",
              "      border-color: transparent;\n",
              "      border-bottom-color: var(--fill-color);\n",
              "      border-left-color: var(--fill-color);\n",
              "    }\n",
              "    20% {\n",
              "      border-color: transparent;\n",
              "      border-left-color: var(--fill-color);\n",
              "      border-top-color: var(--fill-color);\n",
              "    }\n",
              "    30% {\n",
              "      border-color: transparent;\n",
              "      border-left-color: var(--fill-color);\n",
              "      border-top-color: var(--fill-color);\n",
              "      border-right-color: var(--fill-color);\n",
              "    }\n",
              "    40% {\n",
              "      border-color: transparent;\n",
              "      border-right-color: var(--fill-color);\n",
              "      border-top-color: var(--fill-color);\n",
              "    }\n",
              "    60% {\n",
              "      border-color: transparent;\n",
              "      border-right-color: var(--fill-color);\n",
              "    }\n",
              "    80% {\n",
              "      border-color: transparent;\n",
              "      border-right-color: var(--fill-color);\n",
              "      border-bottom-color: var(--fill-color);\n",
              "    }\n",
              "    90% {\n",
              "      border-color: transparent;\n",
              "      border-bottom-color: var(--fill-color);\n",
              "    }\n",
              "  }\n",
              "</style>\n",
              "\n",
              "  <script>\n",
              "    async function quickchart(key) {\n",
              "      const quickchartButtonEl =\n",
              "        document.querySelector('#' + key + ' button');\n",
              "      quickchartButtonEl.disabled = true;  // To prevent multiple clicks.\n",
              "      quickchartButtonEl.classList.add('colab-df-spinner');\n",
              "      try {\n",
              "        const charts = await google.colab.kernel.invokeFunction(\n",
              "            'suggestCharts', [key], {});\n",
              "      } catch (error) {\n",
              "        console.error('Error during call to suggestCharts:', error);\n",
              "      }\n",
              "      quickchartButtonEl.classList.remove('colab-df-spinner');\n",
              "      quickchartButtonEl.classList.add('colab-df-quickchart-complete');\n",
              "    }\n",
              "    (() => {\n",
              "      let quickchartButtonEl =\n",
              "        document.querySelector('#df-cb492c65-fb7e-4c82-b4d5-dd0d1505d41f button');\n",
              "      quickchartButtonEl.style.display =\n",
              "        google.colab.kernel.accessAllowed ? 'block' : 'none';\n",
              "    })();\n",
              "  </script>\n",
              "</div>\n",
              "\n",
              "    </div>\n",
              "  </div>\n"
            ],
            "text/plain": [
              "             DateTime  Junction  Vehicles           ID  Year  Month  Date_no  \\\n",
              "0 2015-11-01 00:00:00         1        15  20151101001  2015     11        1   \n",
              "1 2015-11-01 01:00:00         1        13  20151101011  2015     11        1   \n",
              "2 2015-11-01 02:00:00         1        10  20151101021  2015     11        1   \n",
              "3 2015-11-01 03:00:00         1         7  20151101031  2015     11        1   \n",
              "4 2015-11-01 04:00:00         1         9  20151101041  2015     11        1   \n",
              "\n",
              "   Hour     Day  \n",
              "0     0  Sunday  \n",
              "1     1  Sunday  \n",
              "2     2  Sunday  \n",
              "3     3  Sunday  \n",
              "4     4  Sunday  "
            ]
          },
          "execution_count": 11,
          "metadata": {},
          "output_type": "execute_result"
        }
      ],
      "source": [
        "df.head()\n"
      ]
    },
    {
      "cell_type": "code",
      "execution_count": null,
      "metadata": {
        "colab": {
          "base_uri": "https://localhost:8080/",
          "height": 1000
        },
        "id": "3jNZ-X9_7PC7",
        "outputId": "235416d6-edd8-4267-c89e-44abb4c56aed"
      },
      "outputs": [
        {
          "data": {
            "image/png": "[encoded data removed]",
            "text/plain": [
              "<Figure size 1000x200 with 1 Axes>"
            ]
          },
          "metadata": {},
          "output_type": "display_data"
        },
        {
          "data": {
            "image/png": "[encoded data removed]",
            "text/plain": [
              "<Figure size 1000x200 with 1 Axes>"
            ]
          },
          "metadata": {},
          "output_type": "display_data"
        },
        {
          "data": {
            "image/png": "[encoded data removed]",
            "text/plain": [
              "<Figure size 1000x200 with 1 Axes>"
            ]
          },
          "metadata": {},
          "output_type": "display_data"
        },
        {
          "data": {
            "image/png": "[encoded data removed]",
            "text/plain": [
              "<Figure size 1000x200 with 1 Axes>"
            ]
          },
          "metadata": {},
          "output_type": "display_data"
        },
        {
          "data": {
            "image/png": "[encoded data removed]",
            "text/plain": [
              "<Figure size 1000x200 with 1 Axes>"
            ]
          },
          "metadata": {},
          "output_type": "display_data"
        }
      ],
      "source": [
        "new_features = [\"Year\",\"Month\", \"Date_no\", \"Hour\", \"Day\"]\n",
        "\n",
        "colors = sns.color_palette(\"husl\", 4)\n",
        "\n",
        "# Now you can use the colors variable in your plotting code\n",
        "for i in new_features:\n",
        "    plt.figure(figsize=(10,2), facecolor=\"#627D78\")\n",
        "    ax = sns.lineplot(x=df[i], y=\"Vehicles\", data=df, hue=\"Junction\", palette=colors)\n",
        "    plt.legend(bbox_to_anchor=(1.05, 1), loc=2, borderaxespad=0.)"
      ]
    },
    {
      "cell_type": "code",
      "execution_count": null,
      "metadata": {
        "colab": {
          "base_uri": "https://localhost:8080/",
          "height": 504
        },
        "id": "7iHZtphR_t_q",
        "outputId": "20c816df-56df-4da9-9a77-204283c30e60"
      },
      "outputs": [
        {
          "data": {
            "text/plain": [
              "Text(0.5, 0, 'Date')"
            ]
          },
          "execution_count": 14,
          "metadata": {},
          "output_type": "execute_result"
        },
        {
          "data": {
            "image/png": "[encoded data removed]",
            "text/plain": [
              "<Figure size 1200x500 with 1 Axes>"
            ]
          },
          "metadata": {},
          "output_type": "display_data"
        }
      ],
      "source": [
        "plt.figure(figsize=(12,5),facecolor=\"#627D78\")\n",
        "count = sns.countplot(data=df, x =df[\"Year\"], hue=\"Junction\", palette=colors)\n",
        "count.set_title(\"Count Of Traffic On Junctions Over Years\")\n",
        "count.set_ylabel(\"Number of Vehicles\")\n",
        "count.set_xlabel(\"Date\")"
      ]
    },
    {
      "cell_type": "code",
      "execution_count": null,
      "metadata": {
        "colab": {
          "base_uri": "https://localhost:8080/",
          "height": 829
        },
        "id": "QqLEvvGJ_8Yu",
        "outputId": "7beb854b-177d-4761-9c62-7ee932d27e60"
      },
      "outputs": [
        {
          "data": {
            "text/plain": [
              "<Axes: >"
            ]
          },
          "execution_count": 15,
          "metadata": {},
          "output_type": "execute_result"
        },
        {
          "data": {
            "image/png": "[encoded data removed]",
            "text/plain": [
              "<Figure size 1000x1000 with 2 Axes>"
            ]
          },
          "metadata": {},
          "output_type": "display_data"
        }
      ],
      "source": [
        "corrmat = df.corr()\n",
        "plt.subplots(figsize=(10,10),facecolor=\"#627D78\")\n",
        "sns.heatmap(corrmat,cmap= \"Pastel2\",annot=True,square=True, )"
      ]
    },
    {
      "cell_type": "code",
      "execution_count": null,
      "metadata": {
        "colab": {
          "base_uri": "https://localhost:8080/",
          "height": 331
        },
        "id": "2eM_OwuXABZN",
        "outputId": "919b31f6-fe83-4dad-cde8-e99403e5d8bb"
      },
      "outputs": [
        {
          "data": {
            "application/vnd.google.colaboratory.intrinsic+json": {
              "summary": "{\n  \"name\": \"df_J\",\n  \"rows\": 8,\n  \"fields\": [\n    {\n      \"column\": [\n        \"Vehicles\",\n        1\n      ],\n      \"properties\": {\n        \"dtype\": \"number\",\n        \"std\": 5141.322288835111,\n        \"min\": 5.0,\n        \"max\": 14592.0,\n        \"num_unique_values\": 8,\n        \"samples\": [\n          45.05290570175438,\n          40.0,\n          14592.0\n        ],\n        \"semantic_type\": \"\",\n        \"description\": \"\"\n      }\n    },\n    {\n      \"column\": [\n        \"Vehicles\",\n        2\n      ],\n      \"properties\": {\n        \"dtype\": \"number\",\n        \"std\": 5153.531870788288,\n        \"min\": 1.0,\n        \"max\": 14592.0,\n        \"num_unique_values\": 8,\n        \"samples\": [\n          14.253220942982455,\n          13.0,\n          14592.0\n        ],\n        \"semantic_type\": \"\",\n        \"description\": \"\"\n      }\n    },\n    {\n      \"column\": [\n        \"Vehicles\",\n        3\n      ],\n      \"properties\": {\n        \"dtype\": \"number\",\n        \"std\": 5147.2175171093395,\n        \"min\": 1.0,\n        \"max\": 14592.0,\n        \"num_unique_values\": 8,\n        \"samples\": [\n          13.694010416666666,\n          11.0,\n          14592.0\n        ],\n        \"semantic_type\": \"\",\n        \"description\": \"\"\n      }\n    },\n    {\n      \"column\": [\n        \"Vehicles\",\n        4\n      ],\n      \"properties\": {\n        \"dtype\": \"number\",\n        \"std\": 1532.4015801558137,\n        \"min\": 1.0,\n        \"max\": 4344.0,\n        \"num_unique_values\": 8,\n        \"samples\": [\n          7.251611418047882,\n          7.0,\n          4344.0\n        ],\n        \"semantic_type\": \"\",\n        \"description\": \"\"\n      }\n    },\n    {\n      \"column\": [\n        \"ID\",\n        1\n      ],\n      \"properties\": {\n        \"dtype\": \"number\",\n        \"std\": 9332137097.029724,\n        \"min\": 14592.0,\n        \"max\": 20170630231.0,\n        \"num_unique_values\": 8,\n        \"samples\": [\n          20162601517.31579,\n          20160830616.0,\n          14592.0\n        ],\n        \"semantic_type\": \"\",\n        \"description\": \"\"\n      }\n    },\n    {\n      \"column\": [\n        \"ID\",\n        2\n      ],\n      \"properties\": {\n        \"dtype\": \"number\",\n        \"std\": 9332137097.492634,\n        \"min\": 14592.0,\n        \"max\": 20170630232.0,\n        \"num_unique_values\": 8,\n        \"samples\": [\n          20162601518.31579,\n          20160830617.0,\n          14592.0\n        ],\n        \"semantic_type\": \"\",\n        \"description\": \"\"\n      }\n    },\n    {\n      \"column\": [\n        \"ID\",\n        3\n      ],\n      \"properties\": {\n        \"dtype\": \"number\",\n        \"std\": 9332137097.955544,\n        \"min\": 14592.0,\n        \"max\": 20170630233.0,\n        \"num_unique_values\": 8,\n        \"samples\": [\n          20162601519.31579,\n          20160830618.0,\n          14592.0\n        ],\n        \"semantic_type\": \"\",\n        \"description\": \"\"\n      }\n    },\n    {\n      \"column\": [\n        \"ID\",\n        4\n      ],\n      \"properties\": {\n        \"dtype\": \"number\",\n        \"std\": 9337027113.761147,\n        \"min\": 4344.0,\n        \"max\": 20170630234.0,\n        \"num_unique_values\": 8,\n        \"samples\": [\n          20170366549.939228,\n          20170401119.0,\n          4344.0\n        ],\n        \"semantic_type\": \"\",\n        \"description\": \"\"\n      }\n    }\n  ]\n}",
              "type": "dataframe"
            },
            "text/html": [
              "\n",
              "  <div id=\"df-a327b1a2-0df1-46df-a42e-6ffef1af96c9\" class=\"colab-df-container\">\n",
              "    <div>\n",
              "<style scoped>\n",
              "    .dataframe tbody tr th:only-of-type {\n",
              "        vertical-align: middle;\n",
              "    }\n",
              "\n",
              "    .dataframe tbody tr th {\n",
              "        vertical-align: top;\n",
              "    }\n",
              "\n",
              "    .dataframe thead tr th {\n",
              "        text-align: left;\n",
              "    }\n",
              "</style>\n",
              "<table border=\"1\" class=\"dataframe\">\n",
              "  <thead>\n",
              "    <tr>\n",
              "      <th></th>\n",
              "      <th colspan=\"4\" halign=\"left\">Vehicles</th>\n",
              "      <th colspan=\"4\" halign=\"left\">ID</th>\n",
              "    </tr>\n",
              "    <tr>\n",
              "      <th>Junction</th>\n",
              "      <th>1</th>\n",
              "      <th>2</th>\n",
              "      <th>3</th>\n",
              "      <th>4</th>\n",
              "      <th>1</th>\n",
              "      <th>2</th>\n",
              "      <th>3</th>\n",
              "      <th>4</th>\n",
              "    </tr>\n",
              "  </thead>\n",
              "  <tbody>\n",
              "    <tr>\n",
              "      <th>count</th>\n",
              "      <td>14592.000000</td>\n",
              "      <td>14592.000000</td>\n",
              "      <td>14592.000000</td>\n",
              "      <td>4344.000000</td>\n",
              "      <td>1.459200e+04</td>\n",
              "      <td>1.459200e+04</td>\n",
              "      <td>1.459200e+04</td>\n",
              "      <td>4.344000e+03</td>\n",
              "    </tr>\n",
              "    <tr>\n",
              "      <th>mean</th>\n",
              "      <td>45.052906</td>\n",
              "      <td>14.253221</td>\n",
              "      <td>13.694010</td>\n",
              "      <td>7.251611</td>\n",
              "      <td>2.016260e+10</td>\n",
              "      <td>2.016260e+10</td>\n",
              "      <td>2.016260e+10</td>\n",
              "      <td>2.017037e+10</td>\n",
              "    </tr>\n",
              "    <tr>\n",
              "      <th>std</th>\n",
              "      <td>23.008345</td>\n",
              "      <td>7.401307</td>\n",
              "      <td>10.436005</td>\n",
              "      <td>3.521455</td>\n",
              "      <td>5.779594e+06</td>\n",
              "      <td>5.779594e+06</td>\n",
              "      <td>5.779594e+06</td>\n",
              "      <td>1.712987e+05</td>\n",
              "    </tr>\n",
              "    <tr>\n",
              "      <th>min</th>\n",
              "      <td>5.000000</td>\n",
              "      <td>1.000000</td>\n",
              "      <td>1.000000</td>\n",
              "      <td>1.000000</td>\n",
              "      <td>2.015110e+10</td>\n",
              "      <td>2.015110e+10</td>\n",
              "      <td>2.015110e+10</td>\n",
              "      <td>2.017010e+10</td>\n",
              "    </tr>\n",
              "    <tr>\n",
              "      <th>25%</th>\n",
              "      <td>27.000000</td>\n",
              "      <td>9.000000</td>\n",
              "      <td>7.000000</td>\n",
              "      <td>5.000000</td>\n",
              "      <td>2.016038e+10</td>\n",
              "      <td>2.016038e+10</td>\n",
              "      <td>2.016038e+10</td>\n",
              "      <td>2.017022e+10</td>\n",
              "    </tr>\n",
              "    <tr>\n",
              "      <th>50%</th>\n",
              "      <td>40.000000</td>\n",
              "      <td>13.000000</td>\n",
              "      <td>11.000000</td>\n",
              "      <td>7.000000</td>\n",
              "      <td>2.016083e+10</td>\n",
              "      <td>2.016083e+10</td>\n",
              "      <td>2.016083e+10</td>\n",
              "      <td>2.017040e+10</td>\n",
              "    </tr>\n",
              "    <tr>\n",
              "      <th>75%</th>\n",
              "      <td>59.000000</td>\n",
              "      <td>17.000000</td>\n",
              "      <td>18.000000</td>\n",
              "      <td>9.000000</td>\n",
              "      <td>2.017013e+10</td>\n",
              "      <td>2.017013e+10</td>\n",
              "      <td>2.017013e+10</td>\n",
              "      <td>2.017052e+10</td>\n",
              "    </tr>\n",
              "    <tr>\n",
              "      <th>max</th>\n",
              "      <td>156.000000</td>\n",
              "      <td>48.000000</td>\n",
              "      <td>180.000000</td>\n",
              "      <td>36.000000</td>\n",
              "      <td>2.017063e+10</td>\n",
              "      <td>2.017063e+10</td>\n",
              "      <td>2.017063e+10</td>\n",
              "      <td>2.017063e+10</td>\n",
              "    </tr>\n",
              "  </tbody>\n",
              "</table>\n",
              "</div>\n",
              "    <div class=\"colab-df-buttons\">\n",
              "\n",
              "  <div class=\"colab-df-container\">\n",
              "    <button class=\"colab-df-convert\" onclick=\"convertToInteractive('df-a327b1a2-0df1-46df-a42e-6ffef1af96c9')\"\n",
              "            title=\"Convert this dataframe to an interactive table.\"\n",
              "            style=\"display:none;\">\n",
              "\n",
              "  <svg xmlns=\"http://www.w3.org/2000/svg\" height=\"24px\" viewBox=\"0 -960 960 960\">\n",
              "    <path d=\"M120-120v-720h720v720H120Zm60-500h600v-160H180v160Zm220 220h160v-160H400v160Zm0 220h160v-160H400v160ZM180-400h160v-160H180v160Zm440 0h160v-160H620v160ZM180-180h160v-160H180v160Zm440 0h160v-160H620v160Z\"/>\n",
              "  </svg>\n",
              "    </button>\n",
              "\n",
              "  <style>\n",
              "    .colab-df-container {\n",
              "      display:flex;\n",
              "      gap: 12px;\n",
              "    }\n",
              "\n",
              "    .colab-df-convert {\n",
              "      background-color: #E8F0FE;\n",
              "      border: none;\n",
              "      border-radius: 50%;\n",
              "      cursor: pointer;\n",
              "      display: none;\n",
              "      fill: #1967D2;\n",
              "      height: 32px;\n",
              "      padding: 0 0 0 0;\n",
              "      width: 32px;\n",
              "    }\n",
              "\n",
              "    .colab-df-convert:hover {\n",
              "      background-color: #E2EBFA;\n",
              "      box-shadow: 0px 1px 2px rgba(60, 64, 67, 0.3), 0px 1px 3px 1px rgba(60, 64, 67, 0.15);\n",
              "      fill: #174EA6;\n",
              "    }\n",
              "\n",
              "    .colab-df-buttons div {\n",
              "      margin-bottom: 4px;\n",
              "    }\n",
              "\n",
              "    [theme=dark] .colab-df-convert {\n",
              "      background-color: #3B4455;\n",
              "      fill: #D2E3FC;\n",
              "    }\n",
              "\n",
              "    [theme=dark] .colab-df-convert:hover {\n",
              "      background-color: #434B5C;\n",
              "      box-shadow: 0px 1px 3px 1px rgba(0, 0, 0, 0.15);\n",
              "      filter: drop-shadow(0px 1px 2px rgba(0, 0, 0, 0.3));\n",
              "      fill: #FFFFFF;\n",
              "    }\n",
              "  </style>\n",
              "\n",
              "    <script>\n",
              "      const buttonEl =\n",
              "        document.querySelector('#df-a327b1a2-0df1-46df-a42e-6ffef1af96c9 button.colab-df-convert');\n",
              "      buttonEl.style.display =\n",
              "        google.colab.kernel.accessAllowed ? 'block' : 'none';\n",
              "\n",
              "      async function convertToInteractive(key) {\n",
              "        const element = document.querySelector('#df-a327b1a2-0df1-46df-a42e-6ffef1af96c9');\n",
              "        const dataTable =\n",
              "          await google.colab.kernel.invokeFunction('convertToInteractive',\n",
              "                                                    [key], {});\n",
              "        if (!dataTable) return;\n",
              "\n",
              "        const docLinkHtml = 'Like what you see? Visit the ' +\n",
              "          '<a target=\"_blank\" href=https://colab.research.google.com/notebooks/data_table.ipynb>data table notebook</a>'\n",
              "          + ' to learn more about interactive tables.';\n",
              "        element.innerHTML = '';\n",
              "        dataTable['output_type'] = 'display_data';\n",
              "        await google.colab.output.renderOutput(dataTable, element);\n",
              "        const docLink = document.createElement('div');\n",
              "        docLink.innerHTML = docLinkHtml;\n",
              "        element.appendChild(docLink);\n",
              "      }\n",
              "    </script>\n",
              "  </div>\n",
              "\n",
              "\n",
              "<div id=\"df-b23a231f-b5f5-47f5-9d6f-4e28d4d0ad9e\">\n",
              "  <button class=\"colab-df-quickchart\" onclick=\"quickchart('df-b23a231f-b5f5-47f5-9d6f-4e28d4d0ad9e')\"\n",
              "            title=\"Suggest charts\"\n",
              "            style=\"display:none;\">\n",
              "\n",
              "<svg xmlns=\"http://www.w3.org/2000/svg\" height=\"24px\"viewBox=\"0 0 24 24\"\n",
              "     width=\"24px\">\n",
              "    <g>\n",
              "        <path d=\"M19 3H5c-1.1 0-2 .9-2 2v14c0 1.1.9 2 2 2h14c1.1 0 2-.9 2-2V5c0-1.1-.9-2-2-2zM9 17H7v-7h2v7zm4 0h-2V7h2v10zm4 0h-2v-4h2v4z\"/>\n",
              "    </g>\n",
              "</svg>\n",
              "  </button>\n",
              "\n",
              "<style>\n",
              "  .colab-df-quickchart {\n",
              "      --bg-color: #E8F0FE;\n",
              "      --fill-color: #1967D2;\n",
              "      --hover-bg-color: #E2EBFA;\n",
              "      --hover-fill-color: #174EA6;\n",
              "      --disabled-fill-color: #AAA;\n",
              "      --disabled-bg-color: #DDD;\n",
              "  }\n",
              "\n",
              "  [theme=dark] .colab-df-quickchart {\n",
              "      --bg-color: #3B4455;\n",
              "      --fill-color: #D2E3FC;\n",
              "      --hover-bg-color: #434B5C;\n",
              "      --hover-fill-color: #FFFFFF;\n",
              "      --disabled-bg-color: #3B4455;\n",
              "      --disabled-fill-color: #666;\n",
              "  }\n",
              "\n",
              "  .colab-df-quickchart {\n",
              "    background-color: var(--bg-color);\n",
              "    border: none;\n",
              "    border-radius: 50%;\n",
              "    cursor: pointer;\n",
              "    display: none;\n",
              "    fill: var(--fill-color);\n",
              "    height: 32px;\n",
              "    padding: 0;\n",
              "    width: 32px;\n",
              "  }\n",
              "\n",
              "  .colab-df-quickchart:hover {\n",
              "    background-color: var(--hover-bg-color);\n",
              "    box-shadow: 0 1px 2px rgba(60, 64, 67, 0.3), 0 1px 3px 1px rgba(60, 64, 67, 0.15);\n",
              "    fill: var(--button-hover-fill-color);\n",
              "  }\n",
              "\n",
              "  .colab-df-quickchart-complete:disabled,\n",
              "  .colab-df-quickchart-complete:disabled:hover {\n",
              "    background-color: var(--disabled-bg-color);\n",
              "    fill: var(--disabled-fill-color);\n",
              "    box-shadow: none;\n",
              "  }\n",
              "\n",
              "  .colab-df-spinner {\n",
              "    border: 2px solid var(--fill-color);\n",
              "    border-color: transparent;\n",
              "    border-bottom-color: var(--fill-color);\n",
              "    animation:\n",
              "      spin 1s steps(1) infinite;\n",
              "  }\n",
              "\n",
              "  @keyframes spin {\n",
              "    0% {\n",
              "      border-color: transparent;\n",
              "      border-bottom-color: var(--fill-color);\n",
              "      border-left-color: var(--fill-color);\n",
              "    }\n",
              "    20% {\n",
              "      border-color: transparent;\n",
              "      border-left-color: var(--fill-color);\n",
              "      border-top-color: var(--fill-color);\n",
              "    }\n",
              "    30% {\n",
              "      border-color: transparent;\n",
              "      border-left-color: var(--fill-color);\n",
              "      border-top-color: var(--fill-color);\n",
              "      border-right-color: var(--fill-color);\n",
              "    }\n",
              "    40% {\n",
              "      border-color: transparent;\n",
              "      border-right-color: var(--fill-color);\n",
              "      border-top-color: var(--fill-color);\n",
              "    }\n",
              "    60% {\n",
              "      border-color: transparent;\n",
              "      border-right-color: var(--fill-color);\n",
              "    }\n",
              "    80% {\n",
              "      border-color: transparent;\n",
              "      border-right-color: var(--fill-color);\n",
              "      border-bottom-color: var(--fill-color);\n",
              "    }\n",
              "    90% {\n",
              "      border-color: transparent;\n",
              "      border-bottom-color: var(--fill-color);\n",
              "    }\n",
              "  }\n",
              "</style>\n",
              "\n",
              "  <script>\n",
              "    async function quickchart(key) {\n",
              "      const quickchartButtonEl =\n",
              "        document.querySelector('#' + key + ' button');\n",
              "      quickchartButtonEl.disabled = true;  // To prevent multiple clicks.\n",
              "      quickchartButtonEl.classList.add('colab-df-spinner');\n",
              "      try {\n",
              "        const charts = await google.colab.kernel.invokeFunction(\n",
              "            'suggestCharts', [key], {});\n",
              "      } catch (error) {\n",
              "        console.error('Error during call to suggestCharts:', error);\n",
              "      }\n",
              "      quickchartButtonEl.classList.remove('colab-df-spinner');\n",
              "      quickchartButtonEl.classList.add('colab-df-quickchart-complete');\n",
              "    }\n",
              "    (() => {\n",
              "      let quickchartButtonEl =\n",
              "        document.querySelector('#df-b23a231f-b5f5-47f5-9d6f-4e28d4d0ad9e button');\n",
              "      quickchartButtonEl.style.display =\n",
              "        google.colab.kernel.accessAllowed ? 'block' : 'none';\n",
              "    })();\n",
              "  </script>\n",
              "</div>\n",
              "\n",
              "    </div>\n",
              "  </div>\n"
            ],
            "text/plain": [
              "              Vehicles                                                     ID  \\\n",
              "Junction             1             2             3            4             1   \n",
              "count     14592.000000  14592.000000  14592.000000  4344.000000  1.459200e+04   \n",
              "mean         45.052906     14.253221     13.694010     7.251611  2.016260e+10   \n",
              "std          23.008345      7.401307     10.436005     3.521455  5.779594e+06   \n",
              "min           5.000000      1.000000      1.000000     1.000000  2.015110e+10   \n",
              "25%          27.000000      9.000000      7.000000     5.000000  2.016038e+10   \n",
              "50%          40.000000     13.000000     11.000000     7.000000  2.016083e+10   \n",
              "75%          59.000000     17.000000     18.000000     9.000000  2.017013e+10   \n",
              "max         156.000000     48.000000    180.000000    36.000000  2.017063e+10   \n",
              "\n",
              "                                                    \n",
              "Junction             2             3             4  \n",
              "count     1.459200e+04  1.459200e+04  4.344000e+03  \n",
              "mean      2.016260e+10  2.016260e+10  2.017037e+10  \n",
              "std       5.779594e+06  5.779594e+06  1.712987e+05  \n",
              "min       2.015110e+10  2.015110e+10  2.017010e+10  \n",
              "25%       2.016038e+10  2.016038e+10  2.017022e+10  \n",
              "50%       2.016083e+10  2.016083e+10  2.017040e+10  \n",
              "75%       2.017013e+10  2.017013e+10  2.017052e+10  \n",
              "max       2.017063e+10  2.017063e+10  2.017063e+10  "
            ]
          },
          "execution_count": 16,
          "metadata": {},
          "output_type": "execute_result"
        }
      ],
      "source": [
        "df_J = data.pivot(columns=\"Junction\", index=\"DateTime\")\n",
        "df_J.describe()"
      ]
    },
    {
      "cell_type": "code",
      "execution_count": null,
      "metadata": {
        "id": "V71YBbKjAD83"
      },
      "outputs": [],
      "source": [
        "#Creating new sets\n",
        "df_1 = df_J[[('Vehicles', 1)]]\n",
        "df_2 = df_J[[('Vehicles', 2)]]\n",
        "df_3 = df_J[[('Vehicles', 3)]]\n",
        "df_4 = df_J[[('Vehicles', 4)]]\n",
        "df_4 = df_4.dropna() #Junction 4 has limited data only for a few months\n",
        "\n",
        "#Dropping level one in dfs's index as it is a multi index data frame\n",
        "list_dfs = [df_1, df_2, df_3, df_4]\n",
        "for i in list_dfs:\n",
        "    i.columns= i.columns.droplevel(level=1)\n",
        "\n",
        "#Function to plot comparitive plots of dataframes\n",
        "def Sub_Plots4(df_1, df_2,df_3,df_4,title):\n",
        "    fig, axes = plt.subplots(4, 1, figsize=(15, 8),facecolor=\"#627D78\", sharey=True)\n",
        "    fig.suptitle(title)\n",
        "    #J1\n",
        "    pl_1=sns.lineplot(ax=axes[0],data=df_1,color=colors[0])\n",
        "    #pl_1=plt.ylabel()\n",
        "    axes[0].set(ylabel =\"Junction 1\")\n",
        "    #J2\n",
        "    pl_2=sns.lineplot(ax=axes[1],data=df_2,color=colors[1])\n",
        "    axes[1].set(ylabel =\"Junction 2\")\n",
        "    #J3\n",
        "    pl_3=sns.lineplot(ax=axes[2],data=df_3,color=colors[2])\n",
        "    axes[2].set(ylabel =\"Junction 3\")\n",
        "    #J4\n",
        "    pl_4=sns.lineplot(ax=axes[3],data=df_4,color=colors[3])\n",
        "    axes[3].set(ylabel =\"Junction 4\")\n"
      ]
    },
    {
      "cell_type": "code",
      "execution_count": null,
      "metadata": {
        "id": "PBK2LZ3MAOJk"
      },
      "outputs": [],
      "source": [
        "# Normalize Function\n",
        "def Normalize(df,col):\n",
        "    average = df[col].mean()\n",
        "    stdev = df[col].std()\n",
        "    df_normalized = (df[col] - average) / stdev\n",
        "    df_normalized = df_normalized.to_frame()\n",
        "    return df_normalized, average, stdev\n",
        "\n",
        "# Differencing Function\n",
        "def Difference(df,col, interval):\n",
        "    diff = []\n",
        "    for i in range(interval, len(df)):\n",
        "        value = df[col][i] - df[col][i - interval]\n",
        "        diff.append(value)\n",
        "    return diff"
      ]
    },
    {
      "cell_type": "code",
      "execution_count": null,
      "metadata": {
        "id": "VFAcX0-RAYR8"
      },
      "outputs": [],
      "source": [
        "#Normalizing and Differencing to make the series stationary\n",
        "df_N1, av_J1, std_J1 = Normalize(df_1, \"Vehicles\")\n",
        "Diff_1 = Difference(df_N1, col=\"Vehicles\", interval=(24*7)) #taking a week's diffrence\n",
        "df_N1 = df_N1[24*7:]\n",
        "df_N1.columns = [\"Norm\"]\n",
        "df_N1[\"Diff\"]= Diff_1\n",
        "\n",
        "df_N2, av_J2, std_J2 = Normalize(df_2, \"Vehicles\")\n",
        "Diff_2 = Difference(df_N2, col=\"Vehicles\", interval=(24)) #taking a day's diffrence\n",
        "df_N2 = df_N2[24:]\n",
        "df_N2.columns = [\"Norm\"]\n",
        "df_N2[\"Diff\"]= Diff_2\n",
        "\n",
        "df_N3, av_J3, std_J3 = Normalize(df_3, \"Vehicles\")\n",
        "Diff_3 = Difference(df_N3, col=\"Vehicles\", interval=1) #taking an hour's diffrence\n",
        "df_N3 = df_N3[1:]\n",
        "df_N3.columns = [\"Norm\"]\n",
        "df_N3[\"Diff\"]= Diff_3\n",
        "\n",
        "df_N4, av_J4, std_J4 = Normalize(df_4, \"Vehicles\")\n",
        "Diff_4 = Difference(df_N4, col=\"Vehicles\", interval=1) #taking an hour's diffrence\n",
        "df_N4 = df_N4[1:]\n",
        "df_N4.columns = [\"Norm\"]\n",
        "df_N4[\"Diff\"]= Diff_4"
      ]
    },
    {
      "cell_type": "code",
      "execution_count": null,
      "metadata": {
        "colab": {
          "base_uri": "https://localhost:8080/"
        },
        "id": "-kJFC1U3AZrD",
        "outputId": "1ae3243a-268a-43e6-be6e-92342ad88d73"
      },
      "outputs": [
        {
          "name": "stdout",
          "output_type": "stream",
          "text": [
            "Checking the transformed series for stationarity:\n",
            "\n",
            "\n",
            "ADF Statistic: -15.265303390415337\n",
            "p-value: 4.79853987639816e-28\n",
            "Critical Values:\n",
            "\t1%: -3.431\n",
            "\t5%: -2.862\n",
            "\t10%: -2.567\n",
            "Time Series is Stationary\n",
            "\n",
            "\n",
            "ADF Statistic: -21.795891026940065\n",
            "p-value: 0.0\n",
            "Critical Values:\n",
            "\t1%: -3.431\n",
            "\t5%: -2.862\n",
            "\t10%: -2.567\n",
            "Time Series is Stationary\n",
            "\n",
            "\n",
            "ADF Statistic: -28.001759908832316\n",
            "p-value: 0.0\n",
            "Critical Values:\n",
            "\t1%: -3.431\n",
            "\t5%: -2.862\n",
            "\t10%: -2.567\n",
            "Time Series is Stationary\n",
            "\n",
            "\n",
            "ADF Statistic: -17.979092563052276\n",
            "p-value: 2.778787532595421e-30\n",
            "Critical Values:\n",
            "\t1%: -3.432\n",
            "\t5%: -2.862\n",
            "\t10%: -2.567\n",
            "Time Series is Stationary\n"
          ]
        }
      ],
      "source": [
        "#Stationary Check for the time series Augmented Dickey Fuller test\n",
        "def Stationary_check(df):\n",
        "    check = adfuller(df.dropna())\n",
        "    print(f\"ADF Statistic: {check[0]}\")\n",
        "    print(f\"p-value: {check[1]}\")\n",
        "    print(\"Critical Values:\")\n",
        "    for key, value in check[4].items():\n",
        "        print('\\t%s: %.3f' % (key, value))\n",
        "    if check[0] > check[4][\"1%\"]:\n",
        "        print(\"Time Series is Non-Stationary\")\n",
        "    else:\n",
        "        print(\"Time Series is Stationary\")\n",
        "\n",
        "\n",
        "#Checking if the series is stationary\n",
        "\n",
        "List_df_ND = [ df_N1[\"Diff\"], df_N2[\"Diff\"], df_N3[\"Diff\"], df_N4[\"Diff\"]]\n",
        "print(\"Checking the transformed series for stationarity:\")\n",
        "for i in List_df_ND:\n",
        "    print(\"\\n\")\n",
        "    Stationary_check(i)"
      ]
    },
    {
      "cell_type": "code",
      "execution_count": null,
      "metadata": {
        "id": "we99wvG0A6yj"
      },
      "outputs": [],
      "source": [
        "#Differencing created some NA values as we took a weeks data into consideration while difrencing\n",
        "df_J1 = df_N1[\"Diff\"].dropna()\n",
        "df_J1 = df_J1.to_frame()\n",
        "\n",
        "df_J2 = df_N2[\"Diff\"].dropna()\n",
        "df_J2 = df_J2.to_frame()\n",
        "\n",
        "df_J3 = df_N3[\"Diff\"].dropna()\n",
        "df_J3 = df_J3.to_frame()\n",
        "\n",
        "df_J4 = df_N4[\"Diff\"].dropna()\n",
        "df_J4 = df_J4.to_frame()\n",
        "\n",
        "#Splitting the dataset\n",
        "def Split_data(df):\n",
        "    training_size = int(len(df)*0.90)\n",
        "    data_len = len(df)\n",
        "    train, test = df[0:training_size],df[training_size:data_len]\n",
        "    train, test = train.values.reshape(-1, 1), test.values.reshape(-1, 1)\n",
        "    return train, test\n",
        "#Splitting the training and test datasets\n",
        "J1_train, J1_test = Split_data(df_J1)\n",
        "J2_train, J2_test = Split_data(df_J2)\n",
        "J3_train, J3_test = Split_data(df_J3)\n",
        "J4_train, J4_test = Split_data(df_J4)\n",
        "\n",
        "#Target and Feature\n",
        "def TnF(df):\n",
        "    end_len = len(df)\n",
        "    X = []\n",
        "    y = []\n",
        "    steps = 32\n",
        "    for i in range(steps, end_len):\n",
        "        X.append(df[i - steps:i, 0])\n",
        "        y.append(df[i, 0])\n",
        "    X, y = np.array(X), np.array(y)\n",
        "    return X ,y\n",
        "\n",
        "#fixing the shape of X_test and X_train\n",
        "def FeatureFixShape(train, test):\n",
        "    train = np.reshape(train, (train.shape[0], train.shape[1], 1))\n",
        "    test = np.reshape(test, (test.shape[0],test.shape[1],1))\n",
        "    return train, test\n",
        "\n",
        "#Assigning features and target\n",
        "X_trainJ1, y_trainJ1 = TnF(J1_train)\n",
        "X_testJ1, y_testJ1 = TnF(J1_test)\n",
        "X_trainJ1, X_testJ1 = FeatureFixShape(X_trainJ1, X_testJ1)\n",
        "\n",
        "X_trainJ2, y_trainJ2 = TnF(J2_train)\n",
        "X_testJ2, y_testJ2 = TnF(J2_test)\n",
        "X_trainJ2, X_testJ2 = FeatureFixShape(X_trainJ2, X_testJ2)\n",
        "\n",
        "X_trainJ3, y_trainJ3 = TnF(J3_train)\n",
        "X_testJ3, y_testJ3 = TnF(J3_test)\n",
        "X_trainJ3, X_testJ3 = FeatureFixShape(X_trainJ3, X_testJ3)\n",
        "\n",
        "X_trainJ4, y_trainJ4 = TnF(J4_train)\n",
        "X_testJ4, y_testJ4 = TnF(J4_test)\n",
        "X_trainJ4, X_testJ4 = FeatureFixShape(X_trainJ4, X_testJ4)"
      ]
    },
    {
      "cell_type": "code",
      "execution_count": null,
      "metadata": {
        "id": "kUY4qwt2BG25"
      },
      "outputs": [],
      "source": [
        "from tensorflow.keras import callbacks\n",
        "from tensorflow.keras.models import Sequential\n",
        "from tensorflow.keras.layers import GRU, Dropout, Dense\n",
        "from tensorflow.keras.optimizers import SGD\n",
        "\n",
        "def GRU_model(X_Train, y_Train, X_Test):\n",
        "    early_stopping = callbacks.EarlyStopping(min_delta=0.001, patience=10, restore_best_weights=True)\n",
        "\n",
        "    # The GRU model\n",
        "    model = Sequential()\n",
        "    model.add(GRU(units=150, return_sequences=True, input_shape=(X_Train.shape[1], 1), activation='tanh'))\n",
        "    model.add(Dropout(0.2))\n",
        "    model.add(GRU(units=150, return_sequences=True, input_shape=(X_Train.shape[1], 1), activation='tanh'))\n",
        "    model.add(Dropout(0.2))\n",
        "    model.add(GRU(units=50, return_sequences=True, input_shape=(X_Train.shape[1], 1), activation='tanh'))\n",
        "    model.add(Dropout(0.2))\n",
        "    model.add(GRU(units=50, return_sequences=True, input_shape=(X_Train.shape[1], 1), activation='tanh'))\n",
        "    model.add(Dropout(0.2))\n",
        "    model.add(GRU(units=50, input_shape=(X_Train.shape[1], 1), activation='tanh'))\n",
        "    model.add(Dropout(0.2))\n",
        "    model.add(Dense(units=1))\n",
        "\n",
        "    # Compiling the model with the legacy optimizer\n",
        "    optimizer = SGD(learning_rate=0.01, momentum=0.9)\n",
        "    model.compile(optimizer=optimizer, loss='mean_squared_error')\n",
        "\n",
        "    model.fit(X_Train, y_Train, epochs=50, batch_size=150, callbacks=[early_stopping])\n",
        "    pred_GRU = model.predict(X_Test)\n",
        "    return pred_GRU\n",
        "\n",
        "\n",
        "\n",
        "\n",
        "\n",
        "\n",
        "\n",
        "#To calculate the root mean squred error in predictions\n",
        "def RMSE_Value(test,predicted):\n",
        "    rmse = math.sqrt(mean_squared_error(test, predicted))\n",
        "    print(\"The root mean squared error is {}.\".format(rmse))\n",
        "    return rmse\n",
        "\n",
        "#To plot the comparitive plot of targets and predictions\n",
        "def PredictionsPlot(test,predicted,m):\n",
        "    plt.figure(figsize=(12,5),facecolor=\"#627D78\")\n",
        "    plt.plot(test, color=colors[m],label=\"True Value\",alpha=0.5 )\n",
        "    plt.plot(predicted, color=\"#627D78\",label=\"Predicted Values\")\n",
        "    plt.title(\"GRU Traffic Prediction Vs True values\")\n",
        "    plt.xlabel(\"DateTime\")\n",
        "    plt.ylabel(\"Number of Vehicles\")\n",
        "    plt.legend()\n",
        "    plt.show()\n"
      ]
    },
    {
      "cell_type": "code",
      "execution_count": null,
      "metadata": {
        "id": "b7dKPRrD9mgX"
      },
      "outputs": [],
      "source": [
        "from tensorflow.keras import callbacks\n",
        "from tensorflow.keras.models import Sequential\n",
        "from tensorflow.keras.layers import LSTM, Dropout, Dense\n",
        "from tensorflow.keras.optimizers import SGD\n",
        "\n",
        "def LSTM_model(X_Train, y_Train, X_Test):\n",
        "    early_stopping = callbacks.EarlyStopping(min_delta=0.001, patience=10, restore_best_weights=True)\n",
        "\n",
        "    # The LSTM model\n",
        "    model = Sequential()\n",
        "    model.add(LSTM(units=150, return_sequences=True, input_shape=(X_Train.shape[1], 1), activation='tanh'))\n",
        "    model.add(Dropout(0.2))\n",
        "    model.add(LSTM(units=150, return_sequences=True, input_shape=(X_Train.shape[1], 1), activation='tanh'))\n",
        "    model.add(Dropout(0.2))\n",
        "    model.add(LSTM(units=50, return_sequences=True, input_shape=(X_Train.shape[1], 1), activation='tanh'))\n",
        "    model.add(Dropout(0.2))\n",
        "    model.add(LSTM(units=50, return_sequences=True, input_shape=(X_Train.shape[1], 1), activation='tanh'))\n",
        "    model.add(Dropout(0.2))\n",
        "    model.add(LSTM(units=50, input_shape=(X_Train.shape[1], 1), activation='tanh'))\n",
        "    model.add(Dropout(0.2))\n",
        "    model.add(Dense(units=1))\n",
        "\n",
        "    # Compiling the model with the legacy optimizer\n",
        "    optimizer = SGD(learning_rate=0.01, momentum=0.9)\n",
        "    model.compile(optimizer=optimizer, loss='mean_squared_error')\n",
        "\n",
        "    model.fit(X_Train, y_Train, epochs=50, batch_size=150, callbacks=[early_stopping])\n",
        "    pred_LSTM = model.predict(X_Test)\n",
        "    return pred_LSTM\n"
      ]
    },
    {
      "cell_type": "code",
      "execution_count": null,
      "metadata": {
        "colab": {
          "background_save": true,
          "base_uri": "https://localhost:8080/"
        },
        "id": "J1G7XV69Bori",
        "outputId": "d1254a84-c8bd-4ec2-e983-03fb1a7567fe"
      },
      "outputs": [
        {
          "name": "stdout",
          "output_type": "stream",
          "text": [
            "Epoch 1/50\n",
            "87/87 [==============================] - ETA: 0s - loss: 0.0929"
          ]
        },
        {
          "name": "stderr",
          "output_type": "stream",
          "text": [
            "WARNING:tensorflow:Early stopping conditioned on metric `val_loss` which is not available. Available metrics are: loss\n"
          ]
        },
        {
          "name": "stdout",
          "output_type": "stream",
          "text": [
            "87/87 [==============================] - 49s 450ms/step - loss: 0.0929\n",
            "Epoch 2/50\n",
            "87/87 [==============================] - ETA: 0s - loss: 0.0835"
          ]
        },
        {
          "name": "stderr",
          "output_type": "stream",
          "text": [
            "WARNING:tensorflow:Early stopping conditioned on metric `val_loss` which is not available. Available metrics are: loss\n"
          ]
        },
        {
          "name": "stdout",
          "output_type": "stream",
          "text": [
            "87/87 [==============================] - 39s 453ms/step - loss: 0.0835\n",
            "Epoch 3/50\n",
            "87/87 [==============================] - ETA: 0s - loss: 0.0828"
          ]
        },
        {
          "name": "stderr",
          "output_type": "stream",
          "text": [
            "WARNING:tensorflow:Early stopping conditioned on metric `val_loss` which is not available. Available metrics are: loss\n"
          ]
        },
        {
          "name": "stdout",
          "output_type": "stream",
          "text": [
            "87/87 [==============================] - 42s 481ms/step - loss: 0.0828\n",
            "Epoch 4/50\n",
            "87/87 [==============================] - ETA: 0s - loss: 0.0815"
          ]
        },
        {
          "name": "stderr",
          "output_type": "stream",
          "text": [
            "WARNING:tensorflow:Early stopping conditioned on metric `val_loss` which is not available. Available metrics are: loss\n"
          ]
        },
        {
          "name": "stdout",
          "output_type": "stream",
          "text": [
            "87/87 [==============================] - 39s 454ms/step - loss: 0.0815\n",
            "Epoch 5/50\n",
            "87/87 [==============================] - ETA: 0s - loss: 0.0818"
          ]
        },
        {
          "name": "stderr",
          "output_type": "stream",
          "text": [
            "WARNING:tensorflow:Early stopping conditioned on metric `val_loss` which is not available. Available metrics are: loss\n"
          ]
        },
        {
          "name": "stdout",
          "output_type": "stream",
          "text": [
            "87/87 [==============================] - 40s 457ms/step - loss: 0.0818\n",
            "Epoch 6/50\n",
            "87/87 [==============================] - ETA: 0s - loss: 0.0803"
          ]
        },
        {
          "name": "stderr",
          "output_type": "stream",
          "text": [
            "WARNING:tensorflow:Early stopping conditioned on metric `val_loss` which is not available. Available metrics are: loss\n"
          ]
        },
        {
          "name": "stdout",
          "output_type": "stream",
          "text": [
            "87/87 [==============================] - 40s 457ms/step - loss: 0.0803\n",
            "Epoch 7/50\n",
            "87/87 [==============================] - ETA: 0s - loss: 0.0795"
          ]
        },
        {
          "name": "stderr",
          "output_type": "stream",
          "text": [
            "WARNING:tensorflow:Early stopping conditioned on metric `val_loss` which is not available. Available metrics are: loss\n"
          ]
        },
        {
          "name": "stdout",
          "output_type": "stream",
          "text": [
            "87/87 [==============================] - 40s 456ms/step - loss: 0.0795\n",
            "Epoch 8/50\n",
            "87/87 [==============================] - ETA: 0s - loss: 0.0791"
          ]
        },
        {
          "name": "stderr",
          "output_type": "stream",
          "text": [
            "WARNING:tensorflow:Early stopping conditioned on metric `val_loss` which is not available. Available metrics are: loss\n"
          ]
        },
        {
          "name": "stdout",
          "output_type": "stream",
          "text": [
            "87/87 [==============================] - 41s 470ms/step - loss: 0.0791\n",
            "Epoch 9/50\n",
            "87/87 [==============================] - ETA: 0s - loss: 0.0790"
          ]
        },
        {
          "name": "stderr",
          "output_type": "stream",
          "text": [
            "WARNING:tensorflow:Early stopping conditioned on metric `val_loss` which is not available. Available metrics are: loss\n"
          ]
        },
        {
          "name": "stdout",
          "output_type": "stream",
          "text": [
            "87/87 [==============================] - 40s 460ms/step - loss: 0.0790\n",
            "Epoch 10/50\n",
            "87/87 [==============================] - ETA: 0s - loss: 0.0781"
          ]
        },
        {
          "name": "stderr",
          "output_type": "stream",
          "text": [
            "WARNING:tensorflow:Early stopping conditioned on metric `val_loss` which is not available. Available metrics are: loss\n"
          ]
        },
        {
          "name": "stdout",
          "output_type": "stream",
          "text": [
            "87/87 [==============================] - 41s 471ms/step - loss: 0.0781\n",
            "Epoch 11/50\n",
            "87/87 [==============================] - ETA: 0s - loss: 0.0779"
          ]
        },
        {
          "name": "stderr",
          "output_type": "stream",
          "text": [
            "WARNING:tensorflow:Early stopping conditioned on metric `val_loss` which is not available. Available metrics are: loss\n"
          ]
        },
        {
          "name": "stdout",
          "output_type": "stream",
          "text": [
            "87/87 [==============================] - 40s 465ms/step - loss: 0.0779\n",
            "Epoch 12/50\n",
            "87/87 [==============================] - ETA: 0s - loss: 0.0775"
          ]
        },
        {
          "name": "stderr",
          "output_type": "stream",
          "text": [
            "WARNING:tensorflow:Early stopping conditioned on metric `val_loss` which is not available. Available metrics are: loss\n"
          ]
        },
        {
          "name": "stdout",
          "output_type": "stream",
          "text": [
            "87/87 [==============================] - 40s 462ms/step - loss: 0.0775\n",
            "Epoch 13/50\n",
            "87/87 [==============================] - ETA: 0s - loss: 0.0766"
          ]
        },
        {
          "name": "stderr",
          "output_type": "stream",
          "text": [
            "WARNING:tensorflow:Early stopping conditioned on metric `val_loss` which is not available. Available metrics are: loss\n"
          ]
        },
        {
          "name": "stdout",
          "output_type": "stream",
          "text": [
            "87/87 [==============================] - 41s 472ms/step - loss: 0.0766\n",
            "Epoch 14/50\n",
            "87/87 [==============================] - ETA: 0s - loss: 0.0765"
          ]
        },
        {
          "name": "stderr",
          "output_type": "stream",
          "text": [
            "WARNING:tensorflow:Early stopping conditioned on metric `val_loss` which is not available. Available metrics are: loss\n"
          ]
        },
        {
          "name": "stdout",
          "output_type": "stream",
          "text": [
            "87/87 [==============================] - 40s 464ms/step - loss: 0.0765\n",
            "Epoch 15/50\n",
            "87/87 [==============================] - ETA: 0s - loss: 0.0760"
          ]
        },
        {
          "name": "stderr",
          "output_type": "stream",
          "text": [
            "WARNING:tensorflow:Early stopping conditioned on metric `val_loss` which is not available. Available metrics are: loss\n"
          ]
        },
        {
          "name": "stdout",
          "output_type": "stream",
          "text": [
            "87/87 [==============================] - 41s 467ms/step - loss: 0.0760\n",
            "Epoch 16/50\n",
            "87/87 [==============================] - ETA: 0s - loss: 0.0765"
          ]
        },
        {
          "name": "stderr",
          "output_type": "stream",
          "text": [
            "WARNING:tensorflow:Early stopping conditioned on metric `val_loss` which is not available. Available metrics are: loss\n"
          ]
        },
        {
          "name": "stdout",
          "output_type": "stream",
          "text": [
            "87/87 [==============================] - 42s 475ms/step - loss: 0.0765\n",
            "Epoch 17/50\n",
            "87/87 [==============================] - ETA: 0s - loss: 0.0750"
          ]
        },
        {
          "name": "stderr",
          "output_type": "stream",
          "text": [
            "WARNING:tensorflow:Early stopping conditioned on metric `val_loss` which is not available. Available metrics are: loss\n"
          ]
        },
        {
          "name": "stdout",
          "output_type": "stream",
          "text": [
            "87/87 [==============================] - 41s 469ms/step - loss: 0.0750\n",
            "Epoch 18/50\n",
            "87/87 [==============================] - ETA: 0s - loss: 0.0752"
          ]
        },
        {
          "name": "stderr",
          "output_type": "stream",
          "text": [
            "WARNING:tensorflow:Early stopping conditioned on metric `val_loss` which is not available. Available metrics are: loss\n"
          ]
        },
        {
          "name": "stdout",
          "output_type": "stream",
          "text": [
            "87/87 [==============================] - 42s 482ms/step - loss: 0.0752\n",
            "Epoch 19/50\n",
            "87/87 [==============================] - ETA: 0s - loss: 0.0748"
          ]
        },
        {
          "name": "stderr",
          "output_type": "stream",
          "text": [
            "WARNING:tensorflow:Early stopping conditioned on metric `val_loss` which is not available. Available metrics are: loss\n"
          ]
        },
        {
          "name": "stdout",
          "output_type": "stream",
          "text": [
            "87/87 [==============================] - 40s 461ms/step - loss: 0.0748\n",
            "Epoch 20/50\n",
            "87/87 [==============================] - ETA: 0s - loss: 0.0743"
          ]
        },
        {
          "name": "stderr",
          "output_type": "stream",
          "text": [
            "WARNING:tensorflow:Early stopping conditioned on metric `val_loss` which is not available. Available metrics are: loss\n"
          ]
        },
        {
          "name": "stdout",
          "output_type": "stream",
          "text": [
            "87/87 [==============================] - 40s 465ms/step - loss: 0.0743\n",
            "Epoch 21/50\n",
            "87/87 [==============================] - ETA: 0s - loss: 0.0733"
          ]
        },
        {
          "name": "stderr",
          "output_type": "stream",
          "text": [
            "WARNING:tensorflow:Early stopping conditioned on metric `val_loss` which is not available. Available metrics are: loss\n"
          ]
        },
        {
          "name": "stdout",
          "output_type": "stream",
          "text": [
            "87/87 [==============================] - 41s 468ms/step - loss: 0.0733\n",
            "Epoch 22/50\n",
            "87/87 [==============================] - ETA: 0s - loss: 0.0733"
          ]
        },
        {
          "name": "stderr",
          "output_type": "stream",
          "text": [
            "WARNING:tensorflow:Early stopping conditioned on metric `val_loss` which is not available. Available metrics are: loss\n"
          ]
        },
        {
          "name": "stdout",
          "output_type": "stream",
          "text": [
            "87/87 [==============================] - 40s 458ms/step - loss: 0.0733\n",
            "Epoch 23/50\n",
            "87/87 [==============================] - ETA: 0s - loss: 0.0724"
          ]
        },
        {
          "name": "stderr",
          "output_type": "stream",
          "text": [
            "WARNING:tensorflow:Early stopping conditioned on metric `val_loss` which is not available. Available metrics are: loss\n"
          ]
        },
        {
          "name": "stdout",
          "output_type": "stream",
          "text": [
            "87/87 [==============================] - 42s 480ms/step - loss: 0.0724\n",
            "Epoch 24/50\n",
            "87/87 [==============================] - ETA: 0s - loss: 0.0720"
          ]
        },
        {
          "name": "stderr",
          "output_type": "stream",
          "text": [
            "WARNING:tensorflow:Early stopping conditioned on metric `val_loss` which is not available. Available metrics are: loss\n"
          ]
        },
        {
          "name": "stdout",
          "output_type": "stream",
          "text": [
            "87/87 [==============================] - 40s 462ms/step - loss: 0.0720\n",
            "Epoch 25/50\n",
            "87/87 [==============================] - ETA: 0s - loss: 0.0719"
          ]
        },
        {
          "name": "stderr",
          "output_type": "stream",
          "text": [
            "WARNING:tensorflow:Early stopping conditioned on metric `val_loss` which is not available. Available metrics are: loss\n"
          ]
        },
        {
          "name": "stdout",
          "output_type": "stream",
          "text": [
            "87/87 [==============================] - 40s 456ms/step - loss: 0.0719\n",
            "Epoch 26/50\n",
            "87/87 [==============================] - ETA: 0s - loss: 0.0714"
          ]
        },
        {
          "name": "stderr",
          "output_type": "stream",
          "text": [
            "WARNING:tensorflow:Early stopping conditioned on metric `val_loss` which is not available. Available metrics are: loss\n"
          ]
        },
        {
          "name": "stdout",
          "output_type": "stream",
          "text": [
            "87/87 [==============================] - 40s 460ms/step - loss: 0.0714\n",
            "Epoch 27/50\n",
            "87/87 [==============================] - ETA: 0s - loss: 0.0707"
          ]
        },
        {
          "name": "stderr",
          "output_type": "stream",
          "text": [
            "WARNING:tensorflow:Early stopping conditioned on metric `val_loss` which is not available. Available metrics are: loss\n"
          ]
        },
        {
          "name": "stdout",
          "output_type": "stream",
          "text": [
            "87/87 [==============================] - 41s 474ms/step - loss: 0.0707\n",
            "Epoch 28/50\n",
            "87/87 [==============================] - ETA: 0s - loss: 0.0705"
          ]
        },
        {
          "name": "stderr",
          "output_type": "stream",
          "text": [
            "WARNING:tensorflow:Early stopping conditioned on metric `val_loss` which is not available. Available metrics are: loss\n"
          ]
        },
        {
          "name": "stdout",
          "output_type": "stream",
          "text": [
            "87/87 [==============================] - 41s 471ms/step - loss: 0.0705\n",
            "Epoch 29/50\n",
            "87/87 [==============================] - ETA: 0s - loss: 0.0701"
          ]
        },
        {
          "name": "stderr",
          "output_type": "stream",
          "text": [
            "WARNING:tensorflow:Early stopping conditioned on metric `val_loss` which is not available. Available metrics are: loss\n"
          ]
        },
        {
          "name": "stdout",
          "output_type": "stream",
          "text": [
            "87/87 [==============================] - 40s 455ms/step - loss: 0.0701\n",
            "Epoch 30/50\n",
            "87/87 [==============================] - ETA: 0s - loss: 0.0693"
          ]
        },
        {
          "name": "stderr",
          "output_type": "stream",
          "text": [
            "WARNING:tensorflow:Early stopping conditioned on metric `val_loss` which is not available. Available metrics are: loss\n"
          ]
        },
        {
          "name": "stdout",
          "output_type": "stream",
          "text": [
            "87/87 [==============================] - 40s 457ms/step - loss: 0.0693\n",
            "Epoch 31/50\n",
            "87/87 [==============================] - ETA: 0s - loss: 0.0691"
          ]
        },
        {
          "name": "stderr",
          "output_type": "stream",
          "text": [
            "WARNING:tensorflow:Early stopping conditioned on metric `val_loss` which is not available. Available metrics are: loss\n"
          ]
        },
        {
          "name": "stdout",
          "output_type": "stream",
          "text": [
            "87/87 [==============================] - 40s 455ms/step - loss: 0.0691\n",
            "Epoch 32/50\n",
            "87/87 [==============================] - ETA: 0s - loss: 0.0685"
          ]
        },
        {
          "name": "stderr",
          "output_type": "stream",
          "text": [
            "WARNING:tensorflow:Early stopping conditioned on metric `val_loss` which is not available. Available metrics are: loss\n"
          ]
        },
        {
          "name": "stdout",
          "output_type": "stream",
          "text": [
            "87/87 [==============================] - 41s 467ms/step - loss: 0.0685\n",
            "Epoch 33/50\n",
            "87/87 [==============================] - ETA: 0s - loss: 0.0681"
          ]
        },
        {
          "name": "stderr",
          "output_type": "stream",
          "text": [
            "WARNING:tensorflow:Early stopping conditioned on metric `val_loss` which is not available. Available metrics are: loss\n"
          ]
        },
        {
          "name": "stdout",
          "output_type": "stream",
          "text": [
            "87/87 [==============================] - 42s 487ms/step - loss: 0.0681\n",
            "Epoch 34/50\n",
            "87/87 [==============================] - ETA: 0s - loss: 0.0680"
          ]
        },
        {
          "name": "stderr",
          "output_type": "stream",
          "text": [
            "WARNING:tensorflow:Early stopping conditioned on metric `val_loss` which is not available. Available metrics are: loss\n"
          ]
        },
        {
          "name": "stdout",
          "output_type": "stream",
          "text": [
            "87/87 [==============================] - 40s 459ms/step - loss: 0.0680\n",
            "Epoch 35/50\n",
            "87/87 [==============================] - ETA: 0s - loss: 0.0674"
          ]
        },
        {
          "name": "stderr",
          "output_type": "stream",
          "text": [
            "WARNING:tensorflow:Early stopping conditioned on metric `val_loss` which is not available. Available metrics are: loss\n"
          ]
        },
        {
          "name": "stdout",
          "output_type": "stream",
          "text": [
            "87/87 [==============================] - 40s 455ms/step - loss: 0.0674\n",
            "Epoch 36/50\n",
            "87/87 [==============================] - ETA: 0s - loss: 0.0669"
          ]
        },
        {
          "name": "stderr",
          "output_type": "stream",
          "text": [
            "WARNING:tensorflow:Early stopping conditioned on metric `val_loss` which is not available. Available metrics are: loss\n"
          ]
        },
        {
          "name": "stdout",
          "output_type": "stream",
          "text": [
            "87/87 [==============================] - 40s 465ms/step - loss: 0.0669\n",
            "Epoch 37/50\n",
            "87/87 [==============================] - ETA: 0s - loss: 0.0665"
          ]
        },
        {
          "name": "stderr",
          "output_type": "stream",
          "text": [
            "WARNING:tensorflow:Early stopping conditioned on metric `val_loss` which is not available. Available metrics are: loss\n"
          ]
        },
        {
          "name": "stdout",
          "output_type": "stream",
          "text": [
            "87/87 [==============================] - 40s 465ms/step - loss: 0.0665\n",
            "Epoch 38/50\n",
            "87/87 [==============================] - ETA: 0s - loss: 0.0661"
          ]
        },
        {
          "name": "stderr",
          "output_type": "stream",
          "text": [
            "WARNING:tensorflow:Early stopping conditioned on metric `val_loss` which is not available. Available metrics are: loss\n"
          ]
        },
        {
          "name": "stdout",
          "output_type": "stream",
          "text": [
            "87/87 [==============================] - 42s 479ms/step - loss: 0.0661\n",
            "Epoch 39/50\n",
            "87/87 [==============================] - ETA: 0s - loss: 0.0656"
          ]
        },
        {
          "name": "stderr",
          "output_type": "stream",
          "text": [
            "WARNING:tensorflow:Early stopping conditioned on metric `val_loss` which is not available. Available metrics are: loss\n"
          ]
        },
        {
          "name": "stdout",
          "output_type": "stream",
          "text": [
            "87/87 [==============================] - 41s 470ms/step - loss: 0.0656\n",
            "Epoch 40/50\n",
            "87/87 [==============================] - ETA: 0s - loss: 0.0651"
          ]
        },
        {
          "name": "stderr",
          "output_type": "stream",
          "text": [
            "WARNING:tensorflow:Early stopping conditioned on metric `val_loss` which is not available. Available metrics are: loss\n"
          ]
        },
        {
          "name": "stdout",
          "output_type": "stream",
          "text": [
            "87/87 [==============================] - 39s 454ms/step - loss: 0.0651\n",
            "Epoch 41/50\n",
            "87/87 [==============================] - ETA: 0s - loss: 0.0648"
          ]
        },
        {
          "name": "stderr",
          "output_type": "stream",
          "text": [
            "WARNING:tensorflow:Early stopping conditioned on metric `val_loss` which is not available. Available metrics are: loss\n"
          ]
        },
        {
          "name": "stdout",
          "output_type": "stream",
          "text": [
            "87/87 [==============================] - 40s 457ms/step - loss: 0.0648\n",
            "Epoch 42/50\n",
            "87/87 [==============================] - ETA: 0s - loss: 0.0641"
          ]
        },
        {
          "name": "stderr",
          "output_type": "stream",
          "text": [
            "WARNING:tensorflow:Early stopping conditioned on metric `val_loss` which is not available. Available metrics are: loss\n"
          ]
        },
        {
          "name": "stdout",
          "output_type": "stream",
          "text": [
            "87/87 [==============================] - 40s 461ms/step - loss: 0.0641\n",
            "Epoch 43/50\n",
            "87/87 [==============================] - ETA: 0s - loss: 0.0640"
          ]
        },
        {
          "name": "stderr",
          "output_type": "stream",
          "text": [
            "WARNING:tensorflow:Early stopping conditioned on metric `val_loss` which is not available. Available metrics are: loss\n"
          ]
        },
        {
          "name": "stdout",
          "output_type": "stream",
          "text": [
            "87/87 [==============================] - 41s 472ms/step - loss: 0.0640\n",
            "Epoch 44/50\n",
            "87/87 [==============================] - ETA: 0s - loss: 0.0635"
          ]
        },
        {
          "name": "stderr",
          "output_type": "stream",
          "text": [
            "WARNING:tensorflow:Early stopping conditioned on metric `val_loss` which is not available. Available metrics are: loss\n"
          ]
        },
        {
          "name": "stdout",
          "output_type": "stream",
          "text": [
            "87/87 [==============================] - 40s 465ms/step - loss: 0.0635\n",
            "Epoch 45/50\n",
            "87/87 [==============================] - ETA: 0s - loss: 0.0629"
          ]
        },
        {
          "name": "stderr",
          "output_type": "stream",
          "text": [
            "WARNING:tensorflow:Early stopping conditioned on metric `val_loss` which is not available. Available metrics are: loss\n"
          ]
        },
        {
          "name": "stdout",
          "output_type": "stream",
          "text": [
            "87/87 [==============================] - 41s 467ms/step - loss: 0.0629\n",
            "Epoch 46/50\n",
            "87/87 [==============================] - ETA: 0s - loss: 0.0630"
          ]
        },
        {
          "name": "stderr",
          "output_type": "stream",
          "text": [
            "WARNING:tensorflow:Early stopping conditioned on metric `val_loss` which is not available. Available metrics are: loss\n"
          ]
        },
        {
          "name": "stdout",
          "output_type": "stream",
          "text": [
            "87/87 [==============================] - 40s 454ms/step - loss: 0.0630\n",
            "Epoch 47/50\n",
            "87/87 [==============================] - ETA: 0s - loss: 0.0628"
          ]
        },
        {
          "name": "stderr",
          "output_type": "stream",
          "text": [
            "WARNING:tensorflow:Early stopping conditioned on metric `val_loss` which is not available. Available metrics are: loss\n"
          ]
        },
        {
          "name": "stdout",
          "output_type": "stream",
          "text": [
            "87/87 [==============================] - 39s 447ms/step - loss: 0.0628\n",
            "Epoch 48/50\n",
            "87/87 [==============================] - ETA: 0s - loss: 0.0626"
          ]
        },
        {
          "name": "stderr",
          "output_type": "stream",
          "text": [
            "WARNING:tensorflow:Early stopping conditioned on metric `val_loss` which is not available. Available metrics are: loss\n"
          ]
        },
        {
          "name": "stdout",
          "output_type": "stream",
          "text": [
            "87/87 [==============================] - 43s 492ms/step - loss: 0.0626\n",
            "Epoch 49/50\n",
            "87/87 [==============================] - ETA: 0s - loss: 0.0623"
          ]
        },
        {
          "name": "stderr",
          "output_type": "stream",
          "text": [
            "WARNING:tensorflow:Early stopping conditioned on metric `val_loss` which is not available. Available metrics are: loss\n"
          ]
        },
        {
          "name": "stdout",
          "output_type": "stream",
          "text": [
            "87/87 [==============================] - 39s 444ms/step - loss: 0.0623\n",
            "Epoch 50/50\n",
            "87/87 [==============================] - ETA: 0s - loss: 0.0614"
          ]
        },
        {
          "name": "stderr",
          "output_type": "stream",
          "text": [
            "WARNING:tensorflow:Early stopping conditioned on metric `val_loss` which is not available. Available metrics are: loss\n"
          ]
        },
        {
          "name": "stdout",
          "output_type": "stream",
          "text": [
            "87/87 [==============================] - 39s 443ms/step - loss: 0.0614\n",
            "45/45 [==============================] - 4s 53ms/step\n",
            "Epoch 1/50\n",
            "87/87 [==============================] - ETA: 0s - loss: 0.0790"
          ]
        },
        {
          "name": "stderr",
          "output_type": "stream",
          "text": [
            "WARNING:tensorflow:Early stopping conditioned on metric `val_loss` which is not available. Available metrics are: loss\n"
          ]
        },
        {
          "name": "stdout",
          "output_type": "stream",
          "text": [
            "87/87 [==============================] - 42s 371ms/step - loss: 0.0790\n",
            "Epoch 2/50\n",
            "87/87 [==============================] - ETA: 0s - loss: 0.0677"
          ]
        },
        {
          "name": "stderr",
          "output_type": "stream",
          "text": [
            "WARNING:tensorflow:Early stopping conditioned on metric `val_loss` which is not available. Available metrics are: loss\n"
          ]
        },
        {
          "name": "stdout",
          "output_type": "stream",
          "text": [
            "87/87 [==============================] - 32s 372ms/step - loss: 0.0677\n",
            "Epoch 3/50\n",
            "87/87 [==============================] - ETA: 0s - loss: 0.0658"
          ]
        },
        {
          "name": "stderr",
          "output_type": "stream",
          "text": [
            "WARNING:tensorflow:Early stopping conditioned on metric `val_loss` which is not available. Available metrics are: loss\n"
          ]
        },
        {
          "name": "stdout",
          "output_type": "stream",
          "text": [
            "87/87 [==============================] - 32s 365ms/step - loss: 0.0658\n",
            "Epoch 4/50\n",
            "87/87 [==============================] - ETA: 0s - loss: 0.0648"
          ]
        },
        {
          "name": "stderr",
          "output_type": "stream",
          "text": [
            "WARNING:tensorflow:Early stopping conditioned on metric `val_loss` which is not available. Available metrics are: loss\n"
          ]
        },
        {
          "name": "stdout",
          "output_type": "stream",
          "text": [
            "87/87 [==============================] - 31s 362ms/step - loss: 0.0648\n",
            "Epoch 5/50\n",
            "87/87 [==============================] - ETA: 0s - loss: 0.0633"
          ]
        },
        {
          "name": "stderr",
          "output_type": "stream",
          "text": [
            "WARNING:tensorflow:Early stopping conditioned on metric `val_loss` which is not available. Available metrics are: loss\n"
          ]
        },
        {
          "name": "stdout",
          "output_type": "stream",
          "text": [
            "87/87 [==============================] - 32s 362ms/step - loss: 0.0633\n",
            "Epoch 6/50\n",
            "87/87 [==============================] - ETA: 0s - loss: 0.0618"
          ]
        },
        {
          "name": "stderr",
          "output_type": "stream",
          "text": [
            "WARNING:tensorflow:Early stopping conditioned on metric `val_loss` which is not available. Available metrics are: loss\n"
          ]
        },
        {
          "name": "stdout",
          "output_type": "stream",
          "text": [
            "87/87 [==============================] - 32s 372ms/step - loss: 0.0618\n",
            "Epoch 7/50\n",
            "87/87 [==============================] - ETA: 0s - loss: 0.0603"
          ]
        },
        {
          "name": "stderr",
          "output_type": "stream",
          "text": [
            "WARNING:tensorflow:Early stopping conditioned on metric `val_loss` which is not available. Available metrics are: loss\n"
          ]
        },
        {
          "name": "stdout",
          "output_type": "stream",
          "text": [
            "87/87 [==============================] - 31s 357ms/step - loss: 0.0603\n",
            "Epoch 8/50\n",
            "87/87 [==============================] - ETA: 0s - loss: 0.0597"
          ]
        },
        {
          "name": "stderr",
          "output_type": "stream",
          "text": [
            "WARNING:tensorflow:Early stopping conditioned on metric `val_loss` which is not available. Available metrics are: loss\n"
          ]
        },
        {
          "name": "stdout",
          "output_type": "stream",
          "text": [
            "87/87 [==============================] - 32s 372ms/step - loss: 0.0597\n",
            "Epoch 9/50\n",
            "87/87 [==============================] - ETA: 0s - loss: 0.0592"
          ]
        },
        {
          "name": "stderr",
          "output_type": "stream",
          "text": [
            "WARNING:tensorflow:Early stopping conditioned on metric `val_loss` which is not available. Available metrics are: loss\n"
          ]
        },
        {
          "name": "stdout",
          "output_type": "stream",
          "text": [
            "87/87 [==============================] - 32s 374ms/step - loss: 0.0592\n",
            "Epoch 10/50\n",
            "87/87 [==============================] - ETA: 0s - loss: 0.0580"
          ]
        },
        {
          "name": "stderr",
          "output_type": "stream",
          "text": [
            "WARNING:tensorflow:Early stopping conditioned on metric `val_loss` which is not available. Available metrics are: loss\n"
          ]
        },
        {
          "name": "stdout",
          "output_type": "stream",
          "text": [
            "87/87 [==============================] - 33s 377ms/step - loss: 0.0580\n",
            "Epoch 11/50\n",
            "87/87 [==============================] - ETA: 0s - loss: 0.0573"
          ]
        },
        {
          "name": "stderr",
          "output_type": "stream",
          "text": [
            "WARNING:tensorflow:Early stopping conditioned on metric `val_loss` which is not available. Available metrics are: loss\n"
          ]
        },
        {
          "name": "stdout",
          "output_type": "stream",
          "text": [
            "87/87 [==============================] - 33s 378ms/step - loss: 0.0573\n",
            "Epoch 12/50\n",
            "87/87 [==============================] - ETA: 0s - loss: 0.0571"
          ]
        },
        {
          "name": "stderr",
          "output_type": "stream",
          "text": [
            "WARNING:tensorflow:Early stopping conditioned on metric `val_loss` which is not available. Available metrics are: loss\n"
          ]
        },
        {
          "name": "stdout",
          "output_type": "stream",
          "text": [
            "87/87 [==============================] - 32s 365ms/step - loss: 0.0571\n",
            "Epoch 13/50\n",
            "87/87 [==============================] - ETA: 0s - loss: 0.0561"
          ]
        },
        {
          "name": "stderr",
          "output_type": "stream",
          "text": [
            "WARNING:tensorflow:Early stopping conditioned on metric `val_loss` which is not available. Available metrics are: loss\n"
          ]
        },
        {
          "name": "stdout",
          "output_type": "stream",
          "text": [
            "87/87 [==============================] - 33s 374ms/step - loss: 0.0561\n",
            "Epoch 14/50\n",
            "87/87 [==============================] - ETA: 0s - loss: 0.0554"
          ]
        },
        {
          "name": "stderr",
          "output_type": "stream",
          "text": [
            "WARNING:tensorflow:Early stopping conditioned on metric `val_loss` which is not available. Available metrics are: loss\n"
          ]
        },
        {
          "name": "stdout",
          "output_type": "stream",
          "text": [
            "87/87 [==============================] - 31s 361ms/step - loss: 0.0554\n",
            "Epoch 15/50\n",
            "87/87 [==============================] - ETA: 0s - loss: 0.0550"
          ]
        },
        {
          "name": "stderr",
          "output_type": "stream",
          "text": [
            "WARNING:tensorflow:Early stopping conditioned on metric `val_loss` which is not available. Available metrics are: loss\n"
          ]
        },
        {
          "name": "stdout",
          "output_type": "stream",
          "text": [
            "87/87 [==============================] - 36s 410ms/step - loss: 0.0550\n",
            "Epoch 16/50\n",
            "87/87 [==============================] - ETA: 0s - loss: 0.0551"
          ]
        },
        {
          "name": "stderr",
          "output_type": "stream",
          "text": [
            "WARNING:tensorflow:Early stopping conditioned on metric `val_loss` which is not available. Available metrics are: loss\n"
          ]
        },
        {
          "name": "stdout",
          "output_type": "stream",
          "text": [
            "87/87 [==============================] - 32s 372ms/step - loss: 0.0551\n",
            "Epoch 17/50\n",
            "87/87 [==============================] - ETA: 0s - loss: 0.0536"
          ]
        },
        {
          "name": "stderr",
          "output_type": "stream",
          "text": [
            "WARNING:tensorflow:Early stopping conditioned on metric `val_loss` which is not available. Available metrics are: loss\n"
          ]
        },
        {
          "name": "stdout",
          "output_type": "stream",
          "text": [
            "87/87 [==============================] - 31s 357ms/step - loss: 0.0536\n",
            "Epoch 18/50\n",
            "87/87 [==============================] - ETA: 0s - loss: 0.0536"
          ]
        },
        {
          "name": "stderr",
          "output_type": "stream",
          "text": [
            "WARNING:tensorflow:Early stopping conditioned on metric `val_loss` which is not available. Available metrics are: loss\n"
          ]
        },
        {
          "name": "stdout",
          "output_type": "stream",
          "text": [
            "87/87 [==============================] - 32s 373ms/step - loss: 0.0536\n",
            "Epoch 19/50\n",
            "87/87 [==============================] - ETA: 0s - loss: 0.0536"
          ]
        },
        {
          "name": "stderr",
          "output_type": "stream",
          "text": [
            "WARNING:tensorflow:Early stopping conditioned on metric `val_loss` which is not available. Available metrics are: loss\n"
          ]
        },
        {
          "name": "stdout",
          "output_type": "stream",
          "text": [
            "87/87 [==============================] - 31s 359ms/step - loss: 0.0536\n",
            "Epoch 20/50\n",
            "87/87 [==============================] - ETA: 0s - loss: 0.0527"
          ]
        },
        {
          "name": "stderr",
          "output_type": "stream",
          "text": [
            "WARNING:tensorflow:Early stopping conditioned on metric `val_loss` which is not available. Available metrics are: loss\n"
          ]
        },
        {
          "name": "stdout",
          "output_type": "stream",
          "text": [
            "87/87 [==============================] - 33s 375ms/step - loss: 0.0527\n",
            "Epoch 21/50\n",
            "87/87 [==============================] - ETA: 0s - loss: 0.0524"
          ]
        },
        {
          "name": "stderr",
          "output_type": "stream",
          "text": [
            "WARNING:tensorflow:Early stopping conditioned on metric `val_loss` which is not available. Available metrics are: loss\n"
          ]
        },
        {
          "name": "stdout",
          "output_type": "stream",
          "text": [
            "87/87 [==============================] - 31s 358ms/step - loss: 0.0524\n",
            "Epoch 22/50\n",
            "87/87 [==============================] - ETA: 0s - loss: 0.0522"
          ]
        },
        {
          "name": "stderr",
          "output_type": "stream",
          "text": [
            "WARNING:tensorflow:Early stopping conditioned on metric `val_loss` which is not available. Available metrics are: loss\n"
          ]
        },
        {
          "name": "stdout",
          "output_type": "stream",
          "text": [
            "87/87 [==============================] - 33s 381ms/step - loss: 0.0522\n",
            "Epoch 23/50\n",
            "87/87 [==============================] - ETA: 0s - loss: 0.0515"
          ]
        },
        {
          "name": "stderr",
          "output_type": "stream",
          "text": [
            "WARNING:tensorflow:Early stopping conditioned on metric `val_loss` which is not available. Available metrics are: loss\n"
          ]
        },
        {
          "name": "stdout",
          "output_type": "stream",
          "text": [
            "87/87 [==============================] - 33s 377ms/step - loss: 0.0515\n",
            "Epoch 24/50\n",
            "87/87 [==============================] - ETA: 0s - loss: 0.0511"
          ]
        },
        {
          "name": "stderr",
          "output_type": "stream",
          "text": [
            "WARNING:tensorflow:Early stopping conditioned on metric `val_loss` which is not available. Available metrics are: loss\n"
          ]
        },
        {
          "name": "stdout",
          "output_type": "stream",
          "text": [
            "87/87 [==============================] - 32s 365ms/step - loss: 0.0511\n",
            "Epoch 25/50\n",
            "87/87 [==============================] - ETA: 0s - loss: 0.0510"
          ]
        },
        {
          "name": "stderr",
          "output_type": "stream",
          "text": [
            "WARNING:tensorflow:Early stopping conditioned on metric `val_loss` which is not available. Available metrics are: loss\n"
          ]
        },
        {
          "name": "stdout",
          "output_type": "stream",
          "text": [
            "87/87 [==============================] - 33s 375ms/step - loss: 0.0510\n",
            "Epoch 26/50\n",
            "87/87 [==============================] - ETA: 0s - loss: 0.0514"
          ]
        },
        {
          "name": "stderr",
          "output_type": "stream",
          "text": [
            "WARNING:tensorflow:Early stopping conditioned on metric `val_loss` which is not available. Available metrics are: loss\n"
          ]
        },
        {
          "name": "stdout",
          "output_type": "stream",
          "text": [
            "87/87 [==============================] - 32s 364ms/step - loss: 0.0514\n",
            "Epoch 27/50\n",
            "87/87 [==============================] - ETA: 0s - loss: 0.0508"
          ]
        },
        {
          "name": "stderr",
          "output_type": "stream",
          "text": [
            "WARNING:tensorflow:Early stopping conditioned on metric `val_loss` which is not available. Available metrics are: loss\n"
          ]
        },
        {
          "name": "stdout",
          "output_type": "stream",
          "text": [
            "87/87 [==============================] - 33s 375ms/step - loss: 0.0508\n",
            "Epoch 28/50\n",
            "87/87 [==============================] - ETA: 0s - loss: 0.0507"
          ]
        },
        {
          "name": "stderr",
          "output_type": "stream",
          "text": [
            "WARNING:tensorflow:Early stopping conditioned on metric `val_loss` which is not available. Available metrics are: loss\n"
          ]
        },
        {
          "name": "stdout",
          "output_type": "stream",
          "text": [
            "87/87 [==============================] - 34s 387ms/step - loss: 0.0507\n",
            "Epoch 29/50\n",
            "87/87 [==============================] - ETA: 0s - loss: 0.0498"
          ]
        },
        {
          "name": "stderr",
          "output_type": "stream",
          "text": [
            "WARNING:tensorflow:Early stopping conditioned on metric `val_loss` which is not available. Available metrics are: loss\n"
          ]
        },
        {
          "name": "stdout",
          "output_type": "stream",
          "text": [
            "87/87 [==============================] - 32s 363ms/step - loss: 0.0498\n",
            "Epoch 30/50\n",
            "87/87 [==============================] - ETA: 0s - loss: 0.0502"
          ]
        },
        {
          "name": "stderr",
          "output_type": "stream",
          "text": [
            "WARNING:tensorflow:Early stopping conditioned on metric `val_loss` which is not available. Available metrics are: loss\n"
          ]
        },
        {
          "name": "stdout",
          "output_type": "stream",
          "text": [
            "87/87 [==============================] - 33s 375ms/step - loss: 0.0502\n",
            "Epoch 31/50\n",
            "87/87 [==============================] - ETA: 0s - loss: 0.0503"
          ]
        },
        {
          "name": "stderr",
          "output_type": "stream",
          "text": [
            "WARNING:tensorflow:Early stopping conditioned on metric `val_loss` which is not available. Available metrics are: loss\n"
          ]
        },
        {
          "name": "stdout",
          "output_type": "stream",
          "text": [
            "87/87 [==============================] - 32s 363ms/step - loss: 0.0503\n",
            "Epoch 32/50\n",
            "87/87 [==============================] - ETA: 0s - loss: 0.0499"
          ]
        },
        {
          "name": "stderr",
          "output_type": "stream",
          "text": [
            "WARNING:tensorflow:Early stopping conditioned on metric `val_loss` which is not available. Available metrics are: loss\n"
          ]
        },
        {
          "name": "stdout",
          "output_type": "stream",
          "text": [
            "87/87 [==============================] - 32s 366ms/step - loss: 0.0499\n",
            "Epoch 33/50\n",
            "87/87 [==============================] - ETA: 0s - loss: 0.0498"
          ]
        },
        {
          "name": "stderr",
          "output_type": "stream",
          "text": [
            "WARNING:tensorflow:Early stopping conditioned on metric `val_loss` which is not available. Available metrics are: loss\n"
          ]
        },
        {
          "name": "stdout",
          "output_type": "stream",
          "text": [
            "87/87 [==============================] - 32s 372ms/step - loss: 0.0498\n",
            "Epoch 34/50\n",
            "87/87 [==============================] - ETA: 0s - loss: 0.0496"
          ]
        },
        {
          "name": "stderr",
          "output_type": "stream",
          "text": [
            "WARNING:tensorflow:Early stopping conditioned on metric `val_loss` which is not available. Available metrics are: loss\n"
          ]
        },
        {
          "name": "stdout",
          "output_type": "stream",
          "text": [
            "87/87 [==============================] - 31s 359ms/step - loss: 0.0496\n",
            "Epoch 35/50\n",
            "87/87 [==============================] - ETA: 0s - loss: 0.0498"
          ]
        },
        {
          "name": "stderr",
          "output_type": "stream",
          "text": [
            "WARNING:tensorflow:Early stopping conditioned on metric `val_loss` which is not available. Available metrics are: loss\n"
          ]
        },
        {
          "name": "stdout",
          "output_type": "stream",
          "text": [
            "87/87 [==============================] - 34s 393ms/step - loss: 0.0498\n",
            "Epoch 36/50\n",
            "87/87 [==============================] - ETA: 0s - loss: 0.0492"
          ]
        },
        {
          "name": "stderr",
          "output_type": "stream",
          "text": [
            "WARNING:tensorflow:Early stopping conditioned on metric `val_loss` which is not available. Available metrics are: loss\n"
          ]
        },
        {
          "name": "stdout",
          "output_type": "stream",
          "text": [
            "87/87 [==============================] - 32s 364ms/step - loss: 0.0492\n",
            "Epoch 37/50\n",
            "87/87 [==============================] - ETA: 0s - loss: 0.0493"
          ]
        },
        {
          "name": "stderr",
          "output_type": "stream",
          "text": [
            "WARNING:tensorflow:Early stopping conditioned on metric `val_loss` which is not available. Available metrics are: loss\n"
          ]
        },
        {
          "name": "stdout",
          "output_type": "stream",
          "text": [
            "87/87 [==============================] - 32s 373ms/step - loss: 0.0493\n",
            "Epoch 38/50\n",
            "87/87 [==============================] - ETA: 0s - loss: 0.0491"
          ]
        },
        {
          "name": "stderr",
          "output_type": "stream",
          "text": [
            "WARNING:tensorflow:Early stopping conditioned on metric `val_loss` which is not available. Available metrics are: loss\n"
          ]
        },
        {
          "name": "stdout",
          "output_type": "stream",
          "text": [
            "87/87 [==============================] - 32s 369ms/step - loss: 0.0491\n",
            "Epoch 39/50\n",
            "87/87 [==============================] - ETA: 0s - loss: 0.0493"
          ]
        },
        {
          "name": "stderr",
          "output_type": "stream",
          "text": [
            "WARNING:tensorflow:Early stopping conditioned on metric `val_loss` which is not available. Available metrics are: loss\n"
          ]
        },
        {
          "name": "stdout",
          "output_type": "stream",
          "text": [
            "87/87 [==============================] - 32s 369ms/step - loss: 0.0493\n",
            "Epoch 40/50\n",
            "87/87 [==============================] - ETA: 0s - loss: 0.0488"
          ]
        },
        {
          "name": "stderr",
          "output_type": "stream",
          "text": [
            "WARNING:tensorflow:Early stopping conditioned on metric `val_loss` which is not available. Available metrics are: loss\n"
          ]
        },
        {
          "name": "stdout",
          "output_type": "stream",
          "text": [
            "87/87 [==============================] - 33s 383ms/step - loss: 0.0488\n",
            "Epoch 41/50\n",
            "87/87 [==============================] - ETA: 0s - loss: 0.0490"
          ]
        },
        {
          "name": "stderr",
          "output_type": "stream",
          "text": [
            "WARNING:tensorflow:Early stopping conditioned on metric `val_loss` which is not available. Available metrics are: loss\n"
          ]
        },
        {
          "name": "stdout",
          "output_type": "stream",
          "text": [
            "87/87 [==============================] - 33s 378ms/step - loss: 0.0490\n",
            "Epoch 42/50\n",
            "87/87 [==============================] - ETA: 0s - loss: 0.0490"
          ]
        },
        {
          "name": "stderr",
          "output_type": "stream",
          "text": [
            "WARNING:tensorflow:Early stopping conditioned on metric `val_loss` which is not available. Available metrics are: loss\n"
          ]
        },
        {
          "name": "stdout",
          "output_type": "stream",
          "text": [
            "87/87 [==============================] - 32s 367ms/step - loss: 0.0490\n",
            "Epoch 43/50\n",
            "87/87 [==============================] - ETA: 0s - loss: 0.0483"
          ]
        },
        {
          "name": "stderr",
          "output_type": "stream",
          "text": [
            "WARNING:tensorflow:Early stopping conditioned on metric `val_loss` which is not available. Available metrics are: loss\n"
          ]
        },
        {
          "name": "stdout",
          "output_type": "stream",
          "text": [
            "87/87 [==============================] - 32s 372ms/step - loss: 0.0483\n",
            "Epoch 44/50\n",
            "87/87 [==============================] - ETA: 0s - loss: 0.0483"
          ]
        },
        {
          "name": "stderr",
          "output_type": "stream",
          "text": [
            "WARNING:tensorflow:Early stopping conditioned on metric `val_loss` which is not available. Available metrics are: loss\n"
          ]
        },
        {
          "name": "stdout",
          "output_type": "stream",
          "text": [
            "87/87 [==============================] - 31s 356ms/step - loss: 0.0483\n",
            "Epoch 45/50\n",
            "87/87 [==============================] - ETA: 0s - loss: 0.0482"
          ]
        },
        {
          "name": "stderr",
          "output_type": "stream",
          "text": [
            "WARNING:tensorflow:Early stopping conditioned on metric `val_loss` which is not available. Available metrics are: loss\n"
          ]
        },
        {
          "name": "stdout",
          "output_type": "stream",
          "text": [
            "87/87 [==============================] - 33s 374ms/step - loss: 0.0482\n",
            "Epoch 46/50\n",
            "87/87 [==============================] - ETA: 0s - loss: 0.0484"
          ]
        },
        {
          "name": "stderr",
          "output_type": "stream",
          "text": [
            "WARNING:tensorflow:Early stopping conditioned on metric `val_loss` which is not available. Available metrics are: loss\n"
          ]
        },
        {
          "name": "stdout",
          "output_type": "stream",
          "text": [
            "87/87 [==============================] - 32s 371ms/step - loss: 0.0484\n",
            "Epoch 47/50\n",
            "87/87 [==============================] - ETA: 0s - loss: 0.0484"
          ]
        },
        {
          "name": "stderr",
          "output_type": "stream",
          "text": [
            "WARNING:tensorflow:Early stopping conditioned on metric `val_loss` which is not available. Available metrics are: loss\n"
          ]
        },
        {
          "name": "stdout",
          "output_type": "stream",
          "text": [
            "87/87 [==============================] - 33s 381ms/step - loss: 0.0484\n",
            "Epoch 48/50\n",
            "87/87 [==============================] - ETA: 0s - loss: 0.0488"
          ]
        },
        {
          "name": "stderr",
          "output_type": "stream",
          "text": [
            "WARNING:tensorflow:Early stopping conditioned on metric `val_loss` which is not available. Available metrics are: loss\n"
          ]
        },
        {
          "name": "stdout",
          "output_type": "stream",
          "text": [
            "87/87 [==============================] - 33s 385ms/step - loss: 0.0488\n",
            "Epoch 49/50\n",
            "87/87 [==============================] - ETA: 0s - loss: 0.0481"
          ]
        },
        {
          "name": "stderr",
          "output_type": "stream",
          "text": [
            "WARNING:tensorflow:Early stopping conditioned on metric `val_loss` which is not available. Available metrics are: loss\n"
          ]
        },
        {
          "name": "stdout",
          "output_type": "stream",
          "text": [
            "87/87 [==============================] - 32s 364ms/step - loss: 0.0481\n",
            "Epoch 50/50\n",
            "87/87 [==============================] - ETA: 0s - loss: 0.0474"
          ]
        },
        {
          "name": "stderr",
          "output_type": "stream",
          "text": [
            "WARNING:tensorflow:Early stopping conditioned on metric `val_loss` which is not available. Available metrics are: loss\n"
          ]
        },
        {
          "name": "stdout",
          "output_type": "stream",
          "text": [
            "87/87 [==============================] - 33s 378ms/step - loss: 0.0474\n",
            "45/45 [==============================] - 4s 46ms/step\n"
          ]
        }
      ],
      "source": [
        "PredJ1 = LSTM_model(X_trainJ1,y_trainJ1,X_testJ1)\n",
        "PredJ11 = GRU_model(X_trainJ1,y_trainJ1,X_testJ1)"
      ]
    },
    {
      "cell_type": "code",
      "execution_count": null,
      "metadata": {
        "colab": {
          "base_uri": "https://localhost:8080/",
          "height": 992
        },
        "id": "i8EvUWgTL4lv",
        "outputId": "31d9a313-cb0c-4781-a932-2e1498a43615"
      },
      "outputs": [
        {
          "output_type": "stream",
          "name": "stdout",
          "text": [
            "The root mean squared error is 0.28293513167491585.\n"
          ]
        },
        {
          "output_type": "display_data",
          "data": {
            "text/plain": [
              "<Figure size 1200x500 with 1 Axes>"
            ],
            "image/png": "[encoded data removed]"
          },
          "metadata": {}
        },
        {
          "output_type": "stream",
          "name": "stdout",
          "text": [
            "The root mean squared error is 0.2469013011251559.\n"
          ]
        },
        {
          "output_type": "display_data",
          "data": {
            "text/plain": [
              "<Figure size 1200x500 with 1 Axes>"
            ],
            "image/png": "[encoded data removed]"
          },
          "metadata": {}
        }
      ],
      "source": [
        "RMSE_J1=RMSE_Value(y_testJ1,PredJ1)\n",
        "PredictionsPlot(y_testJ1,PredJ1,0)\n",
        "\n",
        "RMSE_J11=RMSE_Value(y_testJ1,PredJ11)\n",
        "PredictionsPlot(y_testJ1,PredJ11,0)"
      ]
    },
    {
      "cell_type": "code",
      "execution_count": null,
      "metadata": {
        "id": "iLkfJsGWOsv7",
        "colab": {
          "base_uri": "https://localhost:8080/"
        },
        "outputId": "e6d7ae7b-1f34-4855-84d1-4c32363fc83b"
      },
      "outputs": [
        {
          "output_type": "stream",
          "name": "stdout",
          "text": [
            "Epoch 1/50\n",
            "88/88 [==============================] - ETA: 0s - loss: 0.3004"
          ]
        },
        {
          "output_type": "stream",
          "name": "stderr",
          "text": [
            "WARNING:tensorflow:Early stopping conditioned on metric `val_loss` which is not available. Available metrics are: loss\n"
          ]
        },
        {
          "output_type": "stream",
          "name": "stdout",
          "text": [
            "\b\b\b\b\b\b\b\b\b\b\b\b\b\b\b\b\b\b\b\b\b\b\b\b\b\b\b\b\b\b\b\b\b\b\b\b\b\b\b\b\b\b\b\b\b\b\b\b\b\b\b\b\b\b\b\b\b\b\b\b\b\b\b\r88/88 [==============================] - 59s 481ms/step - loss: 0.3004\n",
            "Epoch 2/50\n",
            "88/88 [==============================] - ETA: 0s - loss: 0.2650"
          ]
        },
        {
          "output_type": "stream",
          "name": "stderr",
          "text": [
            "WARNING:tensorflow:Early stopping conditioned on metric `val_loss` which is not available. Available metrics are: loss\n"
          ]
        },
        {
          "output_type": "stream",
          "name": "stdout",
          "text": [
            "\b\b\b\b\b\b\b\b\b\b\b\b\b\b\b\b\b\b\b\b\b\b\b\b\b\b\b\b\b\b\b\b\b\b\b\b\b\b\b\b\b\b\b\b\b\b\b\b\b\b\b\b\b\b\b\b\b\b\b\b\b\b\b\r88/88 [==============================] - 43s 485ms/step - loss: 0.2650\n",
            "Epoch 3/50\n",
            "88/88 [==============================] - ETA: 0s - loss: 0.2468"
          ]
        },
        {
          "output_type": "stream",
          "name": "stderr",
          "text": [
            "WARNING:tensorflow:Early stopping conditioned on metric `val_loss` which is not available. Available metrics are: loss\n"
          ]
        },
        {
          "output_type": "stream",
          "name": "stdout",
          "text": [
            "\b\b\b\b\b\b\b\b\b\b\b\b\b\b\b\b\b\b\b\b\b\b\b\b\b\b\b\b\b\b\b\b\b\b\b\b\b\b\b\b\b\b\b\b\b\b\b\b\b\b\b\b\b\b\b\b\b\b\b\b\b\b\b\r88/88 [==============================] - 41s 471ms/step - loss: 0.2468\n",
            "Epoch 4/50\n",
            "88/88 [==============================] - ETA: 0s - loss: 0.2395"
          ]
        },
        {
          "output_type": "stream",
          "name": "stderr",
          "text": [
            "WARNING:tensorflow:Early stopping conditioned on metric `val_loss` which is not available. Available metrics are: loss\n"
          ]
        },
        {
          "output_type": "stream",
          "name": "stdout",
          "text": [
            "\b\b\b\b\b\b\b\b\b\b\b\b\b\b\b\b\b\b\b\b\b\b\b\b\b\b\b\b\b\b\b\b\b\b\b\b\b\b\b\b\b\b\b\b\b\b\b\b\b\b\b\b\b\b\b\b\b\b\b\b\b\b\b\r88/88 [==============================] - 42s 483ms/step - loss: 0.2395\n",
            "Epoch 5/50\n",
            "88/88 [==============================] - ETA: 0s - loss: 0.2302"
          ]
        },
        {
          "output_type": "stream",
          "name": "stderr",
          "text": [
            "WARNING:tensorflow:Early stopping conditioned on metric `val_loss` which is not available. Available metrics are: loss\n"
          ]
        },
        {
          "output_type": "stream",
          "name": "stdout",
          "text": [
            "\b\b\b\b\b\b\b\b\b\b\b\b\b\b\b\b\b\b\b\b\b\b\b\b\b\b\b\b\b\b\b\b\b\b\b\b\b\b\b\b\b\b\b\b\b\b\b\b\b\b\b\b\b\b\b\b\b\b\b\b\b\b\b\r88/88 [==============================] - 41s 459ms/step - loss: 0.2302\n",
            "Epoch 6/50\n",
            "88/88 [==============================] - ETA: 0s - loss: 0.2257"
          ]
        },
        {
          "output_type": "stream",
          "name": "stderr",
          "text": [
            "WARNING:tensorflow:Early stopping conditioned on metric `val_loss` which is not available. Available metrics are: loss\n"
          ]
        },
        {
          "output_type": "stream",
          "name": "stdout",
          "text": [
            "\b\b\b\b\b\b\b\b\b\b\b\b\b\b\b\b\b\b\b\b\b\b\b\b\b\b\b\b\b\b\b\b\b\b\b\b\b\b\b\b\b\b\b\b\b\b\b\b\b\b\b\b\b\b\b\b\b\b\b\b\b\b\b\r88/88 [==============================] - 40s 452ms/step - loss: 0.2257\n",
            "Epoch 7/50\n",
            "88/88 [==============================] - ETA: 0s - loss: 0.2223"
          ]
        },
        {
          "output_type": "stream",
          "name": "stderr",
          "text": [
            "WARNING:tensorflow:Early stopping conditioned on metric `val_loss` which is not available. Available metrics are: loss\n"
          ]
        },
        {
          "output_type": "stream",
          "name": "stdout",
          "text": [
            "\b\b\b\b\b\b\b\b\b\b\b\b\b\b\b\b\b\b\b\b\b\b\b\b\b\b\b\b\b\b\b\b\b\b\b\b\b\b\b\b\b\b\b\b\b\b\b\b\b\b\b\b\b\b\b\b\b\b\b\b\b\b\b\r88/88 [==============================] - 41s 468ms/step - loss: 0.2223\n",
            "Epoch 8/50\n",
            "88/88 [==============================] - ETA: 0s - loss: 0.2220"
          ]
        },
        {
          "output_type": "stream",
          "name": "stderr",
          "text": [
            "WARNING:tensorflow:Early stopping conditioned on metric `val_loss` which is not available. Available metrics are: loss\n"
          ]
        },
        {
          "output_type": "stream",
          "name": "stdout",
          "text": [
            "\b\b\b\b\b\b\b\b\b\b\b\b\b\b\b\b\b\b\b\b\b\b\b\b\b\b\b\b\b\b\b\b\b\b\b\b\b\b\b\b\b\b\b\b\b\b\b\b\b\b\b\b\b\b\b\b\b\b\b\b\b\b\b\r88/88 [==============================] - 42s 473ms/step - loss: 0.2220\n",
            "Epoch 9/50\n",
            "88/88 [==============================] - ETA: 0s - loss: 0.2191"
          ]
        },
        {
          "output_type": "stream",
          "name": "stderr",
          "text": [
            "WARNING:tensorflow:Early stopping conditioned on metric `val_loss` which is not available. Available metrics are: loss\n"
          ]
        },
        {
          "output_type": "stream",
          "name": "stdout",
          "text": [
            "\b\b\b\b\b\b\b\b\b\b\b\b\b\b\b\b\b\b\b\b\b\b\b\b\b\b\b\b\b\b\b\b\b\b\b\b\b\b\b\b\b\b\b\b\b\b\b\b\b\b\b\b\b\b\b\b\b\b\b\b\b\b\b\r88/88 [==============================] - 43s 484ms/step - loss: 0.2191\n",
            "Epoch 10/50\n",
            "88/88 [==============================] - ETA: 0s - loss: 0.2169"
          ]
        },
        {
          "output_type": "stream",
          "name": "stderr",
          "text": [
            "WARNING:tensorflow:Early stopping conditioned on metric `val_loss` which is not available. Available metrics are: loss\n"
          ]
        },
        {
          "output_type": "stream",
          "name": "stdout",
          "text": [
            "\b\b\b\b\b\b\b\b\b\b\b\b\b\b\b\b\b\b\b\b\b\b\b\b\b\b\b\b\b\b\b\b\b\b\b\b\b\b\b\b\b\b\b\b\b\b\b\b\b\b\b\b\b\b\b\b\b\b\b\b\b\b\b\r88/88 [==============================] - 40s 452ms/step - loss: 0.2169\n",
            "Epoch 11/50\n",
            "88/88 [==============================] - ETA: 0s - loss: 0.2135"
          ]
        },
        {
          "output_type": "stream",
          "name": "stderr",
          "text": [
            "WARNING:tensorflow:Early stopping conditioned on metric `val_loss` which is not available. Available metrics are: loss\n"
          ]
        },
        {
          "output_type": "stream",
          "name": "stdout",
          "text": [
            "\b\b\b\b\b\b\b\b\b\b\b\b\b\b\b\b\b\b\b\b\b\b\b\b\b\b\b\b\b\b\b\b\b\b\b\b\b\b\b\b\b\b\b\b\b\b\b\b\b\b\b\b\b\b\b\b\b\b\b\b\b\b\b\r88/88 [==============================] - 40s 450ms/step - loss: 0.2135\n",
            "Epoch 12/50\n",
            "88/88 [==============================] - ETA: 0s - loss: 0.2135"
          ]
        },
        {
          "output_type": "stream",
          "name": "stderr",
          "text": [
            "WARNING:tensorflow:Early stopping conditioned on metric `val_loss` which is not available. Available metrics are: loss\n"
          ]
        },
        {
          "output_type": "stream",
          "name": "stdout",
          "text": [
            "\b\b\b\b\b\b\b\b\b\b\b\b\b\b\b\b\b\b\b\b\b\b\b\b\b\b\b\b\b\b\b\b\b\b\b\b\b\b\b\b\b\b\b\b\b\b\b\b\b\b\b\b\b\b\b\b\b\b\b\b\b\b\b\r88/88 [==============================] - 41s 467ms/step - loss: 0.2135\n",
            "Epoch 13/50\n",
            "88/88 [==============================] - ETA: 0s - loss: 0.2129"
          ]
        },
        {
          "output_type": "stream",
          "name": "stderr",
          "text": [
            "WARNING:tensorflow:Early stopping conditioned on metric `val_loss` which is not available. Available metrics are: loss\n"
          ]
        },
        {
          "output_type": "stream",
          "name": "stdout",
          "text": [
            "\b\b\b\b\b\b\b\b\b\b\b\b\b\b\b\b\b\b\b\b\b\b\b\b\b\b\b\b\b\b\b\b\b\b\b\b\b\b\b\b\b\b\b\b\b\b\b\b\b\b\b\b\b\b\b\b\b\b\b\b\b\b\b\r88/88 [==============================] - 40s 456ms/step - loss: 0.2129\n",
            "Epoch 14/50\n",
            "88/88 [==============================] - ETA: 0s - loss: 0.2102"
          ]
        },
        {
          "output_type": "stream",
          "name": "stderr",
          "text": [
            "WARNING:tensorflow:Early stopping conditioned on metric `val_loss` which is not available. Available metrics are: loss\n"
          ]
        },
        {
          "output_type": "stream",
          "name": "stdout",
          "text": [
            "\b\b\b\b\b\b\b\b\b\b\b\b\b\b\b\b\b\b\b\b\b\b\b\b\b\b\b\b\b\b\b\b\b\b\b\b\b\b\b\b\b\b\b\b\b\b\b\b\b\b\b\b\b\b\b\b\b\b\b\b\b\b\b\r88/88 [==============================] - 40s 454ms/step - loss: 0.2102\n",
            "Epoch 15/50\n",
            "88/88 [==============================] - ETA: 0s - loss: 0.2076"
          ]
        },
        {
          "output_type": "stream",
          "name": "stderr",
          "text": [
            "WARNING:tensorflow:Early stopping conditioned on metric `val_loss` which is not available. Available metrics are: loss\n"
          ]
        },
        {
          "output_type": "stream",
          "name": "stdout",
          "text": [
            "\b\b\b\b\b\b\b\b\b\b\b\b\b\b\b\b\b\b\b\b\b\b\b\b\b\b\b\b\b\b\b\b\b\b\b\b\b\b\b\b\b\b\b\b\b\b\b\b\b\b\b\b\b\b\b\b\b\b\b\b\b\b\b\r88/88 [==============================] - 41s 463ms/step - loss: 0.2076\n",
            "Epoch 16/50\n",
            "88/88 [==============================] - ETA: 0s - loss: 0.2060"
          ]
        },
        {
          "output_type": "stream",
          "name": "stderr",
          "text": [
            "WARNING:tensorflow:Early stopping conditioned on metric `val_loss` which is not available. Available metrics are: loss\n"
          ]
        },
        {
          "output_type": "stream",
          "name": "stdout",
          "text": [
            "\b\b\b\b\b\b\b\b\b\b\b\b\b\b\b\b\b\b\b\b\b\b\b\b\b\b\b\b\b\b\b\b\b\b\b\b\b\b\b\b\b\b\b\b\b\b\b\b\b\b\b\b\b\b\b\b\b\b\b\b\b\b\b\r88/88 [==============================] - 40s 455ms/step - loss: 0.2060\n",
            "Epoch 17/50\n",
            "88/88 [==============================] - ETA: 0s - loss: 0.2038"
          ]
        },
        {
          "output_type": "stream",
          "name": "stderr",
          "text": [
            "WARNING:tensorflow:Early stopping conditioned on metric `val_loss` which is not available. Available metrics are: loss\n"
          ]
        },
        {
          "output_type": "stream",
          "name": "stdout",
          "text": [
            "\b\b\b\b\b\b\b\b\b\b\b\b\b\b\b\b\b\b\b\b\b\b\b\b\b\b\b\b\b\b\b\b\b\b\b\b\b\b\b\b\b\b\b\b\b\b\b\b\b\b\b\b\b\b\b\b\b\b\b\b\b\b\b\r88/88 [==============================] - 40s 453ms/step - loss: 0.2038\n",
            "Epoch 18/50\n",
            "88/88 [==============================] - ETA: 0s - loss: 0.2033"
          ]
        },
        {
          "output_type": "stream",
          "name": "stderr",
          "text": [
            "WARNING:tensorflow:Early stopping conditioned on metric `val_loss` which is not available. Available metrics are: loss\n"
          ]
        },
        {
          "output_type": "stream",
          "name": "stdout",
          "text": [
            "\b\b\b\b\b\b\b\b\b\b\b\b\b\b\b\b\b\b\b\b\b\b\b\b\b\b\b\b\b\b\b\b\b\b\b\b\b\b\b\b\b\b\b\b\b\b\b\b\b\b\b\b\b\b\b\b\b\b\b\b\b\b\b\r88/88 [==============================] - 41s 468ms/step - loss: 0.2033\n",
            "Epoch 19/50\n",
            "88/88 [==============================] - ETA: 0s - loss: 0.2017"
          ]
        },
        {
          "output_type": "stream",
          "name": "stderr",
          "text": [
            "WARNING:tensorflow:Early stopping conditioned on metric `val_loss` which is not available. Available metrics are: loss\n"
          ]
        },
        {
          "output_type": "stream",
          "name": "stdout",
          "text": [
            "\b\b\b\b\b\b\b\b\b\b\b\b\b\b\b\b\b\b\b\b\b\b\b\b\b\b\b\b\b\b\b\b\b\b\b\b\b\b\b\b\b\b\b\b\b\b\b\b\b\b\b\b\b\b\b\b\b\b\b\b\b\b\b\r88/88 [==============================] - 40s 454ms/step - loss: 0.2017\n",
            "Epoch 20/50\n",
            "88/88 [==============================] - ETA: 0s - loss: 0.2006"
          ]
        },
        {
          "output_type": "stream",
          "name": "stderr",
          "text": [
            "WARNING:tensorflow:Early stopping conditioned on metric `val_loss` which is not available. Available metrics are: loss\n"
          ]
        },
        {
          "output_type": "stream",
          "name": "stdout",
          "text": [
            "\b\b\b\b\b\b\b\b\b\b\b\b\b\b\b\b\b\b\b\b\b\b\b\b\b\b\b\b\b\b\b\b\b\b\b\b\b\b\b\b\b\b\b\b\b\b\b\b\b\b\b\b\b\b\b\b\b\b\b\b\b\b\b\r88/88 [==============================] - 40s 454ms/step - loss: 0.2006\n",
            "Epoch 21/50\n",
            "88/88 [==============================] - ETA: 0s - loss: 0.1982"
          ]
        },
        {
          "output_type": "stream",
          "name": "stderr",
          "text": [
            "WARNING:tensorflow:Early stopping conditioned on metric `val_loss` which is not available. Available metrics are: loss\n"
          ]
        },
        {
          "output_type": "stream",
          "name": "stdout",
          "text": [
            "\b\b\b\b\b\b\b\b\b\b\b\b\b\b\b\b\b\b\b\b\b\b\b\b\b\b\b\b\b\b\b\b\b\b\b\b\b\b\b\b\b\b\b\b\b\b\b\b\b\b\b\b\b\b\b\b\b\b\b\b\b\b\b\r88/88 [==============================] - 41s 465ms/step - loss: 0.1982\n",
            "Epoch 22/50\n",
            "88/88 [==============================] - ETA: 0s - loss: 0.1989"
          ]
        },
        {
          "output_type": "stream",
          "name": "stderr",
          "text": [
            "WARNING:tensorflow:Early stopping conditioned on metric `val_loss` which is not available. Available metrics are: loss\n"
          ]
        },
        {
          "output_type": "stream",
          "name": "stdout",
          "text": [
            "\b\b\b\b\b\b\b\b\b\b\b\b\b\b\b\b\b\b\b\b\b\b\b\b\b\b\b\b\b\b\b\b\b\b\b\b\b\b\b\b\b\b\b\b\b\b\b\b\b\b\b\b\b\b\b\b\b\b\b\b\b\b\b\r88/88 [==============================] - 40s 455ms/step - loss: 0.1989\n",
            "Epoch 23/50\n",
            "88/88 [==============================] - ETA: 0s - loss: 0.1979"
          ]
        },
        {
          "output_type": "stream",
          "name": "stderr",
          "text": [
            "WARNING:tensorflow:Early stopping conditioned on metric `val_loss` which is not available. Available metrics are: loss\n"
          ]
        },
        {
          "output_type": "stream",
          "name": "stdout",
          "text": [
            "\b\b\b\b\b\b\b\b\b\b\b\b\b\b\b\b\b\b\b\b\b\b\b\b\b\b\b\b\b\b\b\b\b\b\b\b\b\b\b\b\b\b\b\b\b\b\b\b\b\b\b\b\b\b\b\b\b\b\b\b\b\b\b\r88/88 [==============================] - 41s 472ms/step - loss: 0.1979\n",
            "Epoch 24/50\n",
            "88/88 [==============================] - ETA: 0s - loss: 0.1957"
          ]
        },
        {
          "output_type": "stream",
          "name": "stderr",
          "text": [
            "WARNING:tensorflow:Early stopping conditioned on metric `val_loss` which is not available. Available metrics are: loss\n"
          ]
        },
        {
          "output_type": "stream",
          "name": "stdout",
          "text": [
            "\b\b\b\b\b\b\b\b\b\b\b\b\b\b\b\b\b\b\b\b\b\b\b\b\b\b\b\b\b\b\b\b\b\b\b\b\b\b\b\b\b\b\b\b\b\b\b\b\b\b\b\b\b\b\b\b\b\b\b\b\b\b\b\r88/88 [==============================] - 40s 456ms/step - loss: 0.1957\n",
            "Epoch 25/50\n",
            "88/88 [==============================] - ETA: 0s - loss: 0.1947"
          ]
        },
        {
          "output_type": "stream",
          "name": "stderr",
          "text": [
            "WARNING:tensorflow:Early stopping conditioned on metric `val_loss` which is not available. Available metrics are: loss\n"
          ]
        },
        {
          "output_type": "stream",
          "name": "stdout",
          "text": [
            "\b\b\b\b\b\b\b\b\b\b\b\b\b\b\b\b\b\b\b\b\b\b\b\b\b\b\b\b\b\b\b\b\b\b\b\b\b\b\b\b\b\b\b\b\b\b\b\b\b\b\b\b\b\b\b\b\b\b\b\b\b\b\b\r88/88 [==============================] - 40s 452ms/step - loss: 0.1947\n",
            "Epoch 26/50\n",
            "88/88 [==============================] - ETA: 0s - loss: 0.1945"
          ]
        },
        {
          "output_type": "stream",
          "name": "stderr",
          "text": [
            "WARNING:tensorflow:Early stopping conditioned on metric `val_loss` which is not available. Available metrics are: loss\n"
          ]
        },
        {
          "output_type": "stream",
          "name": "stdout",
          "text": [
            "\b\b\b\b\b\b\b\b\b\b\b\b\b\b\b\b\b\b\b\b\b\b\b\b\b\b\b\b\b\b\b\b\b\b\b\b\b\b\b\b\b\b\b\b\b\b\b\b\b\b\b\b\b\b\b\b\b\b\b\b\b\b\b\r88/88 [==============================] - 40s 453ms/step - loss: 0.1945\n",
            "Epoch 27/50\n",
            "88/88 [==============================] - ETA: 0s - loss: 0.1939"
          ]
        },
        {
          "output_type": "stream",
          "name": "stderr",
          "text": [
            "WARNING:tensorflow:Early stopping conditioned on metric `val_loss` which is not available. Available metrics are: loss\n"
          ]
        },
        {
          "output_type": "stream",
          "name": "stdout",
          "text": [
            "\b\b\b\b\b\b\b\b\b\b\b\b\b\b\b\b\b\b\b\b\b\b\b\b\b\b\b\b\b\b\b\b\b\b\b\b\b\b\b\b\b\b\b\b\b\b\b\b\b\b\b\b\b\b\b\b\b\b\b\b\b\b\b\r88/88 [==============================] - 40s 454ms/step - loss: 0.1939\n",
            "Epoch 28/50\n",
            "88/88 [==============================] - ETA: 0s - loss: 0.1936"
          ]
        },
        {
          "output_type": "stream",
          "name": "stderr",
          "text": [
            "WARNING:tensorflow:Early stopping conditioned on metric `val_loss` which is not available. Available metrics are: loss\n"
          ]
        },
        {
          "output_type": "stream",
          "name": "stdout",
          "text": [
            "\b\b\b\b\b\b\b\b\b\b\b\b\b\b\b\b\b\b\b\b\b\b\b\b\b\b\b\b\b\b\b\b\b\b\b\b\b\b\b\b\b\b\b\b\b\b\b\b\b\b\b\b\b\b\b\b\b\b\b\b\b\b\b\r88/88 [==============================] - 41s 460ms/step - loss: 0.1936\n",
            "Epoch 29/50\n",
            "88/88 [==============================] - ETA: 0s - loss: 0.1941"
          ]
        },
        {
          "output_type": "stream",
          "name": "stderr",
          "text": [
            "WARNING:tensorflow:Early stopping conditioned on metric `val_loss` which is not available. Available metrics are: loss\n"
          ]
        },
        {
          "output_type": "stream",
          "name": "stdout",
          "text": [
            "\b\b\b\b\b\b\b\b\b\b\b\b\b\b\b\b\b\b\b\b\b\b\b\b\b\b\b\b\b\b\b\b\b\b\b\b\b\b\b\b\b\b\b\b\b\b\b\b\b\b\b\b\b\b\b\b\b\b\b\b\b\b\b\r88/88 [==============================] - 41s 468ms/step - loss: 0.1941\n",
            "Epoch 30/50\n",
            "88/88 [==============================] - ETA: 0s - loss: 0.1911"
          ]
        },
        {
          "output_type": "stream",
          "name": "stderr",
          "text": [
            "WARNING:tensorflow:Early stopping conditioned on metric `val_loss` which is not available. Available metrics are: loss\n"
          ]
        },
        {
          "output_type": "stream",
          "name": "stdout",
          "text": [
            "\b\b\b\b\b\b\b\b\b\b\b\b\b\b\b\b\b\b\b\b\b\b\b\b\b\b\b\b\b\b\b\b\b\b\b\b\b\b\b\b\b\b\b\b\b\b\b\b\b\b\b\b\b\b\b\b\b\b\b\b\b\b\b\r88/88 [==============================] - 40s 454ms/step - loss: 0.1911\n",
            "Epoch 31/50\n",
            "88/88 [==============================] - ETA: 0s - loss: 0.1925"
          ]
        },
        {
          "output_type": "stream",
          "name": "stderr",
          "text": [
            "WARNING:tensorflow:Early stopping conditioned on metric `val_loss` which is not available. Available metrics are: loss\n"
          ]
        },
        {
          "output_type": "stream",
          "name": "stdout",
          "text": [
            "\b\b\b\b\b\b\b\b\b\b\b\b\b\b\b\b\b\b\b\b\b\b\b\b\b\b\b\b\b\b\b\b\b\b\b\b\b\b\b\b\b\b\b\b\b\b\b\b\b\b\b\b\b\b\b\b\b\b\b\b\b\b\b\r88/88 [==============================] - 40s 453ms/step - loss: 0.1925\n",
            "Epoch 32/50\n",
            "88/88 [==============================] - ETA: 0s - loss: 0.1916"
          ]
        },
        {
          "output_type": "stream",
          "name": "stderr",
          "text": [
            "WARNING:tensorflow:Early stopping conditioned on metric `val_loss` which is not available. Available metrics are: loss\n"
          ]
        },
        {
          "output_type": "stream",
          "name": "stdout",
          "text": [
            "\b\b\b\b\b\b\b\b\b\b\b\b\b\b\b\b\b\b\b\b\b\b\b\b\b\b\b\b\b\b\b\b\b\b\b\b\b\b\b\b\b\b\b\b\b\b\b\b\b\b\b\b\b\b\b\b\b\b\b\b\b\b\b\r88/88 [==============================] - 40s 452ms/step - loss: 0.1916\n",
            "Epoch 33/50\n",
            "88/88 [==============================] - ETA: 0s - loss: 0.1919"
          ]
        },
        {
          "output_type": "stream",
          "name": "stderr",
          "text": [
            "WARNING:tensorflow:Early stopping conditioned on metric `val_loss` which is not available. Available metrics are: loss\n"
          ]
        },
        {
          "output_type": "stream",
          "name": "stdout",
          "text": [
            "\b\b\b\b\b\b\b\b\b\b\b\b\b\b\b\b\b\b\b\b\b\b\b\b\b\b\b\b\b\b\b\b\b\b\b\b\b\b\b\b\b\b\b\b\b\b\b\b\b\b\b\b\b\b\b\b\b\b\b\b\b\b\b\r88/88 [==============================] - 40s 452ms/step - loss: 0.1919\n",
            "Epoch 34/50\n",
            "88/88 [==============================] - ETA: 0s - loss: 0.1906"
          ]
        },
        {
          "output_type": "stream",
          "name": "stderr",
          "text": [
            "WARNING:tensorflow:Early stopping conditioned on metric `val_loss` which is not available. Available metrics are: loss\n"
          ]
        },
        {
          "output_type": "stream",
          "name": "stdout",
          "text": [
            "\b\b\b\b\b\b\b\b\b\b\b\b\b\b\b\b\b\b\b\b\b\b\b\b\b\b\b\b\b\b\b\b\b\b\b\b\b\b\b\b\b\b\b\b\b\b\b\b\b\b\b\b\b\b\b\b\b\b\b\b\b\b\b\r88/88 [==============================] - 42s 481ms/step - loss: 0.1906\n",
            "Epoch 35/50\n",
            "88/88 [==============================] - ETA: 0s - loss: 0.1907"
          ]
        },
        {
          "output_type": "stream",
          "name": "stderr",
          "text": [
            "WARNING:tensorflow:Early stopping conditioned on metric `val_loss` which is not available. Available metrics are: loss\n"
          ]
        },
        {
          "output_type": "stream",
          "name": "stdout",
          "text": [
            "\b\b\b\b\b\b\b\b\b\b\b\b\b\b\b\b\b\b\b\b\b\b\b\b\b\b\b\b\b\b\b\b\b\b\b\b\b\b\b\b\b\b\b\b\b\b\b\b\b\b\b\b\b\b\b\b\b\b\b\b\b\b\b\r88/88 [==============================] - 40s 453ms/step - loss: 0.1907\n",
            "Epoch 36/50\n",
            "88/88 [==============================] - ETA: 0s - loss: 0.1895"
          ]
        },
        {
          "output_type": "stream",
          "name": "stderr",
          "text": [
            "WARNING:tensorflow:Early stopping conditioned on metric `val_loss` which is not available. Available metrics are: loss\n"
          ]
        },
        {
          "output_type": "stream",
          "name": "stdout",
          "text": [
            "\b\b\b\b\b\b\b\b\b\b\b\b\b\b\b\b\b\b\b\b\b\b\b\b\b\b\b\b\b\b\b\b\b\b\b\b\b\b\b\b\b\b\b\b\b\b\b\b\b\b\b\b\b\b\b\b\b\b\b\b\b\b\b\r88/88 [==============================] - 40s 455ms/step - loss: 0.1895\n",
            "Epoch 37/50\n",
            "88/88 [==============================] - ETA: 0s - loss: 0.1904"
          ]
        },
        {
          "output_type": "stream",
          "name": "stderr",
          "text": [
            "WARNING:tensorflow:Early stopping conditioned on metric `val_loss` which is not available. Available metrics are: loss\n"
          ]
        },
        {
          "output_type": "stream",
          "name": "stdout",
          "text": [
            "\b\b\b\b\b\b\b\b\b\b\b\b\b\b\b\b\b\b\b\b\b\b\b\b\b\b\b\b\b\b\b\b\b\b\b\b\b\b\b\b\b\b\b\b\b\b\b\b\b\b\b\b\b\b\b\b\b\b\b\b\b\b\b\r88/88 [==============================] - 40s 460ms/step - loss: 0.1904\n",
            "Epoch 38/50\n",
            "88/88 [==============================] - ETA: 0s - loss: 0.1876"
          ]
        },
        {
          "output_type": "stream",
          "name": "stderr",
          "text": [
            "WARNING:tensorflow:Early stopping conditioned on metric `val_loss` which is not available. Available metrics are: loss\n"
          ]
        },
        {
          "output_type": "stream",
          "name": "stdout",
          "text": [
            "\b\b\b\b\b\b\b\b\b\b\b\b\b\b\b\b\b\b\b\b\b\b\b\b\b\b\b\b\b\b\b\b\b\b\b\b\b\b\b\b\b\b\b\b\b\b\b\b\b\b\b\b\b\b\b\b\b\b\b\b\b\b\b\r88/88 [==============================] - 40s 460ms/step - loss: 0.1876\n",
            "Epoch 39/50\n",
            "88/88 [==============================] - ETA: 0s - loss: 0.1890"
          ]
        },
        {
          "output_type": "stream",
          "name": "stderr",
          "text": [
            "WARNING:tensorflow:Early stopping conditioned on metric `val_loss` which is not available. Available metrics are: loss\n"
          ]
        },
        {
          "output_type": "stream",
          "name": "stdout",
          "text": [
            "\b\b\b\b\b\b\b\b\b\b\b\b\b\b\b\b\b\b\b\b\b\b\b\b\b\b\b\b\b\b\b\b\b\b\b\b\b\b\b\b\b\b\b\b\b\b\b\b\b\b\b\b\b\b\b\b\b\b\b\b\b\b\b\r88/88 [==============================] - 40s 458ms/step - loss: 0.1890\n",
            "Epoch 40/50\n",
            "88/88 [==============================] - ETA: 0s - loss: 0.1876"
          ]
        },
        {
          "output_type": "stream",
          "name": "stderr",
          "text": [
            "WARNING:tensorflow:Early stopping conditioned on metric `val_loss` which is not available. Available metrics are: loss\n"
          ]
        },
        {
          "output_type": "stream",
          "name": "stdout",
          "text": [
            "\b\b\b\b\b\b\b\b\b\b\b\b\b\b\b\b\b\b\b\b\b\b\b\b\b\b\b\b\b\b\b\b\b\b\b\b\b\b\b\b\b\b\b\b\b\b\b\b\b\b\b\b\b\b\b\b\b\b\b\b\b\b\b\r88/88 [==============================] - 43s 487ms/step - loss: 0.1876\n",
            "Epoch 41/50\n",
            "88/88 [==============================] - ETA: 0s - loss: 0.1885"
          ]
        },
        {
          "output_type": "stream",
          "name": "stderr",
          "text": [
            "WARNING:tensorflow:Early stopping conditioned on metric `val_loss` which is not available. Available metrics are: loss\n"
          ]
        },
        {
          "output_type": "stream",
          "name": "stdout",
          "text": [
            "\b\b\b\b\b\b\b\b\b\b\b\b\b\b\b\b\b\b\b\b\b\b\b\b\b\b\b\b\b\b\b\b\b\b\b\b\b\b\b\b\b\b\b\b\b\b\b\b\b\b\b\b\b\b\b\b\b\b\b\b\b\b\b\r88/88 [==============================] - 40s 456ms/step - loss: 0.1885\n",
            "Epoch 42/50\n",
            "88/88 [==============================] - ETA: 0s - loss: 0.1889"
          ]
        },
        {
          "output_type": "stream",
          "name": "stderr",
          "text": [
            "WARNING:tensorflow:Early stopping conditioned on metric `val_loss` which is not available. Available metrics are: loss\n"
          ]
        },
        {
          "output_type": "stream",
          "name": "stdout",
          "text": [
            "\b\b\b\b\b\b\b\b\b\b\b\b\b\b\b\b\b\b\b\b\b\b\b\b\b\b\b\b\b\b\b\b\b\b\b\b\b\b\b\b\b\b\b\b\b\b\b\b\b\b\b\b\b\b\b\b\b\b\b\b\b\b\b\r88/88 [==============================] - 40s 457ms/step - loss: 0.1889\n",
            "Epoch 43/50\n",
            "88/88 [==============================] - ETA: 0s - loss: 0.1874"
          ]
        },
        {
          "output_type": "stream",
          "name": "stderr",
          "text": [
            "WARNING:tensorflow:Early stopping conditioned on metric `val_loss` which is not available. Available metrics are: loss\n"
          ]
        },
        {
          "output_type": "stream",
          "name": "stdout",
          "text": [
            "\b\b\b\b\b\b\b\b\b\b\b\b\b\b\b\b\b\b\b\b\b\b\b\b\b\b\b\b\b\b\b\b\b\b\b\b\b\b\b\b\b\b\b\b\b\b\b\b\b\b\b\b\b\b\b\b\b\b\b\b\b\b\b\r88/88 [==============================] - 40s 452ms/step - loss: 0.1874\n",
            "Epoch 44/50\n",
            "88/88 [==============================] - ETA: 0s - loss: 0.1870"
          ]
        },
        {
          "output_type": "stream",
          "name": "stderr",
          "text": [
            "WARNING:tensorflow:Early stopping conditioned on metric `val_loss` which is not available. Available metrics are: loss\n"
          ]
        },
        {
          "output_type": "stream",
          "name": "stdout",
          "text": [
            "\b\b\b\b\b\b\b\b\b\b\b\b\b\b\b\b\b\b\b\b\b\b\b\b\b\b\b\b\b\b\b\b\b\b\b\b\b\b\b\b\b\b\b\b\b\b\b\b\b\b\b\b\b\b\b\b\b\b\b\b\b\b\b\r88/88 [==============================] - 40s 453ms/step - loss: 0.1870\n",
            "Epoch 45/50\n",
            "88/88 [==============================] - ETA: 0s - loss: 0.1881"
          ]
        },
        {
          "output_type": "stream",
          "name": "stderr",
          "text": [
            "WARNING:tensorflow:Early stopping conditioned on metric `val_loss` which is not available. Available metrics are: loss\n"
          ]
        },
        {
          "output_type": "stream",
          "name": "stdout",
          "text": [
            "\b\b\b\b\b\b\b\b\b\b\b\b\b\b\b\b\b\b\b\b\b\b\b\b\b\b\b\b\b\b\b\b\b\b\b\b\b\b\b\b\b\b\b\b\b\b\b\b\b\b\b\b\b\b\b\b\b\b\b\b\b\b\b\r88/88 [==============================] - 40s 458ms/step - loss: 0.1881\n",
            "Epoch 46/50\n",
            "88/88 [==============================] - ETA: 0s - loss: 0.1858"
          ]
        },
        {
          "output_type": "stream",
          "name": "stderr",
          "text": [
            "WARNING:tensorflow:Early stopping conditioned on metric `val_loss` which is not available. Available metrics are: loss\n"
          ]
        },
        {
          "output_type": "stream",
          "name": "stdout",
          "text": [
            "\b\b\b\b\b\b\b\b\b\b\b\b\b\b\b\b\b\b\b\b\b\b\b\b\b\b\b\b\b\b\b\b\b\b\b\b\b\b\b\b\b\b\b\b\b\b\b\b\b\b\b\b\b\b\b\b\b\b\b\b\b\b\b\r88/88 [==============================] - 42s 473ms/step - loss: 0.1858\n",
            "Epoch 47/50\n",
            "88/88 [==============================] - ETA: 0s - loss: 0.1864"
          ]
        },
        {
          "output_type": "stream",
          "name": "stderr",
          "text": [
            "WARNING:tensorflow:Early stopping conditioned on metric `val_loss` which is not available. Available metrics are: loss\n"
          ]
        },
        {
          "output_type": "stream",
          "name": "stdout",
          "text": [
            "\b\b\b\b\b\b\b\b\b\b\b\b\b\b\b\b\b\b\b\b\b\b\b\b\b\b\b\b\b\b\b\b\b\b\b\b\b\b\b\b\b\b\b\b\b\b\b\b\b\b\b\b\b\b\b\b\b\b\b\b\b\b\b\r88/88 [==============================] - 41s 462ms/step - loss: 0.1864\n",
            "Epoch 48/50\n",
            "88/88 [==============================] - ETA: 0s - loss: 0.1870"
          ]
        },
        {
          "output_type": "stream",
          "name": "stderr",
          "text": [
            "WARNING:tensorflow:Early stopping conditioned on metric `val_loss` which is not available. Available metrics are: loss\n"
          ]
        },
        {
          "output_type": "stream",
          "name": "stdout",
          "text": [
            "\b\b\b\b\b\b\b\b\b\b\b\b\b\b\b\b\b\b\b\b\b\b\b\b\b\b\b\b\b\b\b\b\b\b\b\b\b\b\b\b\b\b\b\b\b\b\b\b\b\b\b\b\b\b\b\b\b\b\b\b\b\b\b\r88/88 [==============================] - 40s 453ms/step - loss: 0.1870\n",
            "Epoch 49/50\n",
            "88/88 [==============================] - ETA: 0s - loss: 0.1862"
          ]
        },
        {
          "output_type": "stream",
          "name": "stderr",
          "text": [
            "WARNING:tensorflow:Early stopping conditioned on metric `val_loss` which is not available. Available metrics are: loss\n"
          ]
        },
        {
          "output_type": "stream",
          "name": "stdout",
          "text": [
            "\b\b\b\b\b\b\b\b\b\b\b\b\b\b\b\b\b\b\b\b\b\b\b\b\b\b\b\b\b\b\b\b\b\b\b\b\b\b\b\b\b\b\b\b\b\b\b\b\b\b\b\b\b\b\b\b\b\b\b\b\b\b\b\r88/88 [==============================] - 40s 453ms/step - loss: 0.1862\n",
            "Epoch 50/50\n",
            "88/88 [==============================] - ETA: 0s - loss: 0.1889"
          ]
        },
        {
          "output_type": "stream",
          "name": "stderr",
          "text": [
            "WARNING:tensorflow:Early stopping conditioned on metric `val_loss` which is not available. Available metrics are: loss\n"
          ]
        },
        {
          "output_type": "stream",
          "name": "stdout",
          "text": [
            "88/88 [==============================] - 40s 455ms/step - loss: 0.1889\n",
            "45/45 [==============================] - 4s 55ms/step\n",
            "Epoch 1/50\n",
            "88/88 [==============================] - ETA: 0s - loss: 0.2316"
          ]
        },
        {
          "output_type": "stream",
          "name": "stderr",
          "text": [
            "WARNING:tensorflow:Early stopping conditioned on metric `val_loss` which is not available. Available metrics are: loss\n"
          ]
        },
        {
          "output_type": "stream",
          "name": "stdout",
          "text": [
            "\b\b\b\b\b\b\b\b\b\b\b\b\b\b\b\b\b\b\b\b\b\b\b\b\b\b\b\b\b\b\b\b\b\b\b\b\b\b\b\b\b\b\b\b\b\b\b\b\b\b\b\b\b\b\b\b\b\b\b\b\b\b\b\r88/88 [==============================] - 42s 371ms/step - loss: 0.2316\n",
            "Epoch 2/50\n",
            "88/88 [==============================] - ETA: 0s - loss: 0.2044"
          ]
        },
        {
          "output_type": "stream",
          "name": "stderr",
          "text": [
            "WARNING:tensorflow:Early stopping conditioned on metric `val_loss` which is not available. Available metrics are: loss\n"
          ]
        },
        {
          "output_type": "stream",
          "name": "stdout",
          "text": [
            "\b\b\b\b\b\b\b\b\b\b\b\b\b\b\b\b\b\b\b\b\b\b\b\b\b\b\b\b\b\b\b\b\b\b\b\b\b\b\b\b\b\b\b\b\b\b\b\b\b\b\b\b\b\b\b\b\b\b\b\b\b\b\b\r88/88 [==============================] - 32s 358ms/step - loss: 0.2044\n",
            "Epoch 3/50\n",
            "88/88 [==============================] - ETA: 0s - loss: 0.1970"
          ]
        },
        {
          "output_type": "stream",
          "name": "stderr",
          "text": [
            "WARNING:tensorflow:Early stopping conditioned on metric `val_loss` which is not available. Available metrics are: loss\n"
          ]
        },
        {
          "output_type": "stream",
          "name": "stdout",
          "text": [
            "\b\b\b\b\b\b\b\b\b\b\b\b\b\b\b\b\b\b\b\b\b\b\b\b\b\b\b\b\b\b\b\b\b\b\b\b\b\b\b\b\b\b\b\b\b\b\b\b\b\b\b\b\b\b\b\b\b\b\b\b\b\b\b\r88/88 [==============================] - 33s 374ms/step - loss: 0.1970\n",
            "Epoch 4/50\n",
            "88/88 [==============================] - ETA: 0s - loss: 0.1934"
          ]
        },
        {
          "output_type": "stream",
          "name": "stderr",
          "text": [
            "WARNING:tensorflow:Early stopping conditioned on metric `val_loss` which is not available. Available metrics are: loss\n"
          ]
        },
        {
          "output_type": "stream",
          "name": "stdout",
          "text": [
            "\b\b\b\b\b\b\b\b\b\b\b\b\b\b\b\b\b\b\b\b\b\b\b\b\b\b\b\b\b\b\b\b\b\b\b\b\b\b\b\b\b\b\b\b\b\b\b\b\b\b\b\b\b\b\b\b\b\b\b\b\b\b\b\r88/88 [==============================] - 32s 367ms/step - loss: 0.1934\n",
            "Epoch 5/50\n",
            "88/88 [==============================] - ETA: 0s - loss: 0.1918"
          ]
        },
        {
          "output_type": "stream",
          "name": "stderr",
          "text": [
            "WARNING:tensorflow:Early stopping conditioned on metric `val_loss` which is not available. Available metrics are: loss\n"
          ]
        },
        {
          "output_type": "stream",
          "name": "stdout",
          "text": [
            "\b\b\b\b\b\b\b\b\b\b\b\b\b\b\b\b\b\b\b\b\b\b\b\b\b\b\b\b\b\b\b\b\b\b\b\b\b\b\b\b\b\b\b\b\b\b\b\b\b\b\b\b\b\b\b\b\b\b\b\b\b\b\b\r88/88 [==============================] - 32s 364ms/step - loss: 0.1918\n",
            "Epoch 6/50\n",
            "88/88 [==============================] - ETA: 0s - loss: 0.1926"
          ]
        },
        {
          "output_type": "stream",
          "name": "stderr",
          "text": [
            "WARNING:tensorflow:Early stopping conditioned on metric `val_loss` which is not available. Available metrics are: loss\n"
          ]
        },
        {
          "output_type": "stream",
          "name": "stdout",
          "text": [
            "\b\b\b\b\b\b\b\b\b\b\b\b\b\b\b\b\b\b\b\b\b\b\b\b\b\b\b\b\b\b\b\b\b\b\b\b\b\b\b\b\b\b\b\b\b\b\b\b\b\b\b\b\b\b\b\b\b\b\b\b\b\b\b\r88/88 [==============================] - 33s 378ms/step - loss: 0.1926\n",
            "Epoch 7/50\n",
            "88/88 [==============================] - ETA: 0s - loss: 0.1940"
          ]
        },
        {
          "output_type": "stream",
          "name": "stderr",
          "text": [
            "WARNING:tensorflow:Early stopping conditioned on metric `val_loss` which is not available. Available metrics are: loss\n"
          ]
        },
        {
          "output_type": "stream",
          "name": "stdout",
          "text": [
            "\b\b\b\b\b\b\b\b\b\b\b\b\b\b\b\b\b\b\b\b\b\b\b\b\b\b\b\b\b\b\b\b\b\b\b\b\b\b\b\b\b\b\b\b\b\b\b\b\b\b\b\b\b\b\b\b\b\b\b\b\b\b\b\r88/88 [==============================] - 33s 377ms/step - loss: 0.1940\n",
            "Epoch 8/50\n",
            "88/88 [==============================] - ETA: 0s - loss: 0.1912"
          ]
        },
        {
          "output_type": "stream",
          "name": "stderr",
          "text": [
            "WARNING:tensorflow:Early stopping conditioned on metric `val_loss` which is not available. Available metrics are: loss\n"
          ]
        },
        {
          "output_type": "stream",
          "name": "stdout",
          "text": [
            "\b\b\b\b\b\b\b\b\b\b\b\b\b\b\b\b\b\b\b\b\b\b\b\b\b\b\b\b\b\b\b\b\b\b\b\b\b\b\b\b\b\b\b\b\b\b\b\b\b\b\b\b\b\b\b\b\b\b\b\b\b\b\b\r88/88 [==============================] - 33s 375ms/step - loss: 0.1912\n",
            "Epoch 9/50\n",
            "88/88 [==============================] - ETA: 0s - loss: 0.1906"
          ]
        },
        {
          "output_type": "stream",
          "name": "stderr",
          "text": [
            "WARNING:tensorflow:Early stopping conditioned on metric `val_loss` which is not available. Available metrics are: loss\n"
          ]
        },
        {
          "output_type": "stream",
          "name": "stdout",
          "text": [
            "\b\b\b\b\b\b\b\b\b\b\b\b\b\b\b\b\b\b\b\b\b\b\b\b\b\b\b\b\b\b\b\b\b\b\b\b\b\b\b\b\b\b\b\b\b\b\b\b\b\b\b\b\b\b\b\b\b\b\b\b\b\b\b\r88/88 [==============================] - 32s 359ms/step - loss: 0.1906\n",
            "Epoch 10/50\n",
            "88/88 [==============================] - ETA: 0s - loss: 0.1889"
          ]
        },
        {
          "output_type": "stream",
          "name": "stderr",
          "text": [
            "WARNING:tensorflow:Early stopping conditioned on metric `val_loss` which is not available. Available metrics are: loss\n"
          ]
        },
        {
          "output_type": "stream",
          "name": "stdout",
          "text": [
            "\b\b\b\b\b\b\b\b\b\b\b\b\b\b\b\b\b\b\b\b\b\b\b\b\b\b\b\b\b\b\b\b\b\b\b\b\b\b\b\b\b\b\b\b\b\b\b\b\b\b\b\b\b\b\b\b\b\b\b\b\b\b\b\r88/88 [==============================] - 33s 374ms/step - loss: 0.1889\n",
            "Epoch 11/50\n",
            "88/88 [==============================] - ETA: 0s - loss: 0.1882"
          ]
        },
        {
          "output_type": "stream",
          "name": "stderr",
          "text": [
            "WARNING:tensorflow:Early stopping conditioned on metric `val_loss` which is not available. Available metrics are: loss\n"
          ]
        },
        {
          "output_type": "stream",
          "name": "stdout",
          "text": [
            "\b\b\b\b\b\b\b\b\b\b\b\b\b\b\b\b\b\b\b\b\b\b\b\b\b\b\b\b\b\b\b\b\b\b\b\b\b\b\b\b\b\b\b\b\b\b\b\b\b\b\b\b\b\b\b\b\b\b\b\b\b\b\b\r88/88 [==============================] - 32s 360ms/step - loss: 0.1882\n",
            "Epoch 12/50\n",
            "88/88 [==============================] - ETA: 0s - loss: 0.1887"
          ]
        },
        {
          "output_type": "stream",
          "name": "stderr",
          "text": [
            "WARNING:tensorflow:Early stopping conditioned on metric `val_loss` which is not available. Available metrics are: loss\n"
          ]
        },
        {
          "output_type": "stream",
          "name": "stdout",
          "text": [
            "\b\b\b\b\b\b\b\b\b\b\b\b\b\b\b\b\b\b\b\b\b\b\b\b\b\b\b\b\b\b\b\b\b\b\b\b\b\b\b\b\b\b\b\b\b\b\b\b\b\b\b\b\b\b\b\b\b\b\b\b\b\b\b\r88/88 [==============================] - 33s 375ms/step - loss: 0.1887\n",
            "Epoch 13/50\n",
            "88/88 [==============================] - ETA: 0s - loss: 0.1879"
          ]
        },
        {
          "output_type": "stream",
          "name": "stderr",
          "text": [
            "WARNING:tensorflow:Early stopping conditioned on metric `val_loss` which is not available. Available metrics are: loss\n"
          ]
        },
        {
          "output_type": "stream",
          "name": "stdout",
          "text": [
            "\b\b\b\b\b\b\b\b\b\b\b\b\b\b\b\b\b\b\b\b\b\b\b\b\b\b\b\b\b\b\b\b\b\b\b\b\b\b\b\b\b\b\b\b\b\b\b\b\b\b\b\b\b\b\b\b\b\b\b\b\b\b\b\r88/88 [==============================] - 32s 369ms/step - loss: 0.1879\n",
            "Epoch 14/50\n",
            "88/88 [==============================] - ETA: 0s - loss: 0.1871"
          ]
        },
        {
          "output_type": "stream",
          "name": "stderr",
          "text": [
            "WARNING:tensorflow:Early stopping conditioned on metric `val_loss` which is not available. Available metrics are: loss\n"
          ]
        },
        {
          "output_type": "stream",
          "name": "stdout",
          "text": [
            "\b\b\b\b\b\b\b\b\b\b\b\b\b\b\b\b\b\b\b\b\b\b\b\b\b\b\b\b\b\b\b\b\b\b\b\b\b\b\b\b\b\b\b\b\b\b\b\b\b\b\b\b\b\b\b\b\b\b\b\b\b\b\b\r88/88 [==============================] - 34s 380ms/step - loss: 0.1871\n",
            "Epoch 15/50\n",
            "88/88 [==============================] - ETA: 0s - loss: 0.1868"
          ]
        },
        {
          "output_type": "stream",
          "name": "stderr",
          "text": [
            "WARNING:tensorflow:Early stopping conditioned on metric `val_loss` which is not available. Available metrics are: loss\n"
          ]
        },
        {
          "output_type": "stream",
          "name": "stdout",
          "text": [
            "\b\b\b\b\b\b\b\b\b\b\b\b\b\b\b\b\b\b\b\b\b\b\b\b\b\b\b\b\b\b\b\b\b\b\b\b\b\b\b\b\b\b\b\b\b\b\b\b\b\b\b\b\b\b\b\b\b\b\b\b\b\b\b\r88/88 [==============================] - 33s 374ms/step - loss: 0.1868\n",
            "Epoch 16/50\n",
            "88/88 [==============================] - ETA: 0s - loss: 0.1868"
          ]
        },
        {
          "output_type": "stream",
          "name": "stderr",
          "text": [
            "WARNING:tensorflow:Early stopping conditioned on metric `val_loss` which is not available. Available metrics are: loss\n"
          ]
        },
        {
          "output_type": "stream",
          "name": "stdout",
          "text": [
            "\b\b\b\b\b\b\b\b\b\b\b\b\b\b\b\b\b\b\b\b\b\b\b\b\b\b\b\b\b\b\b\b\b\b\b\b\b\b\b\b\b\b\b\b\b\b\b\b\b\b\b\b\b\b\b\b\b\b\b\b\b\b\b\r88/88 [==============================] - 32s 360ms/step - loss: 0.1868\n",
            "Epoch 17/50\n",
            "11/88 [==>...........................] - ETA: 33s - loss: 0.1810"
          ]
        }
      ],
      "source": [
        "PredJ2 = LSTM_model(X_trainJ2,y_trainJ2,X_testJ2)\n",
        "PredJ22 = GRU_model(X_trainJ2,y_trainJ2,X_testJ2)"
      ]
    },
    {
      "cell_type": "code",
      "execution_count": null,
      "metadata": {
        "id": "BZowLVvUO5qi"
      },
      "outputs": [],
      "source": [
        "RMSE_J2=RMSE_Value(y_testJ2,PredJ2)\n",
        "PredictionsPlot(y_testJ2,PredJ2,1)\n",
        "\n",
        "RMSE_J22=RMSE_Value(y_testJ2,PredJ22)\n",
        "PredictionsPlot(y_testJ2,PredJ22,1)"
      ]
    },
    {
      "cell_type": "code",
      "execution_count": null,
      "metadata": {
        "id": "-V8MMj2EOugX"
      },
      "outputs": [],
      "source": [
        "PredJ3 = LSTM_model(X_trainJ3,y_trainJ3,X_testJ3)\n",
        "PredJ33 = GRU_model(X_trainJ3,y_trainJ3,X_testJ3)"
      ]
    },
    {
      "cell_type": "code",
      "execution_count": null,
      "metadata": {
        "id": "Op5dRIdUPTJh"
      },
      "outputs": [],
      "source": [
        "RMSE_J3=RMSE_Value(y_testJ3,PredJ3)\n",
        "PredictionsPlot(y_testJ3,PredJ3,2)\n",
        "\n",
        "RMSE_J33=RMSE_Value(y_testJ3,PredJ33)\n",
        "PredictionsPlot(y_testJ3,PredJ33,2)"
      ]
    },
    {
      "cell_type": "code",
      "execution_count": null,
      "metadata": {
        "id": "NXTIZjl7OuV1"
      },
      "outputs": [],
      "source": [
        "PredJ4 = LSTM_model(X_trainJ4,y_trainJ4,X_testJ4)\n",
        "PredJ44 = GRU_model(X_trainJ4,y_trainJ4,X_testJ4)"
      ]
    },
    {
      "cell_type": "code",
      "execution_count": null,
      "metadata": {
        "id": "mqTa9rKkPlZy"
      },
      "outputs": [],
      "source": [
        "RMSE_J4=RMSE_Value(y_testJ4,PredJ4)\n",
        "PredictionsPlot(y_testJ4,PredJ4,3)\n",
        "\n",
        "RMSE_J44=RMSE_Value(y_testJ4,PredJ44)\n",
        "PredictionsPlot(y_testJ4,PredJ44,3)"
      ]
    },
    {
      "cell_type": "code",
      "execution_count": null,
      "metadata": {
        "colab": {
          "base_uri": "https://localhost:8080/"
        },
        "id": "hG9HiysiLZ4d",
        "outputId": "38420cff-dfcd-478f-dfa8-baddbcfda9b8"
      },
      "outputs": [
        {
          "name": "stdout",
          "output_type": "stream",
          "text": [
            "R^2 Score: 0.4767341286107666\n"
          ]
        }
      ],
      "source": [
        "from sklearn.metrics import r2_score\n",
        "\n",
        "# Assuming y_Test is the actual values and pred_GRU is the predicted values\n",
        "r2 = r2_score(y_testJ1,PredJ11 )\n",
        "print(\"R^2 Score:\", r2)\n"
      ]
    },
    {
      "cell_type": "code",
      "execution_count": null,
      "metadata": {
        "colab": {
          "base_uri": "https://localhost:8080/"
        },
        "id": "-jfRCA4qJ_JT",
        "outputId": "9ce1b5b7-db47-41ea-96f9-24d8624608ba"
      },
      "outputs": [
        {
          "data": {
            "text/plain": [
              "48120"
            ]
          },
          "execution_count": 9,
          "metadata": {},
          "output_type": "execute_result"
        }
      ],
      "source": [
        "len(df)"
      ]
    },
    {
      "cell_type": "code",
      "execution_count": null,
      "metadata": {
        "id": "1K8WzpFqBypJ"
      },
      "outputs": [],
      "source": [
        "import pandas as pd\n",
        "import numpy as np\n",
        "\n",
        "# Read the CSV file into a DataFrame\n",
        "df1 = pd.read_csv('/content/drive/MyDrive/Comp_Datasets/Comp_traffic.csv')"
      ]
    },
    {
      "cell_type": "code",
      "execution_count": null,
      "metadata": {
        "id": "dJHXDq7HK7Kp"
      },
      "outputs": [],
      "source": [
        "df1.head()"
      ]
    }
  ],
  "metadata": {
    "accelerator": "GPU",
    "colab": {
      "gpuType": "T4",
      "provenance": [],
      "include_colab_link": true
    },
    "kernelspec": {
      "display_name": "Python 3",
      "name": "python3"
    },
    "language_info": {
      "name": "python"
    }
  },
  "nbformat": 4,
  "nbformat_minor": 0
}